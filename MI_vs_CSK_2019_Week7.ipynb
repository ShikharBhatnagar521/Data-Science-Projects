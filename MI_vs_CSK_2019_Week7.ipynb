{
  "cells": [
    {
      "cell_type": "markdown",
      "metadata": {
        "id": "view-in-github",
        "colab_type": "text"
      },
      "source": [
        "<a href=\"https://colab.research.google.com/github/spaceo521/Data-Science-Projects/blob/main/MI_vs_CSK_2019_Week7.ipynb\" target=\"_parent\"><img src=\"https://colab.research.google.com/assets/colab-badge.svg\" alt=\"Open In Colab\"/></a>"
      ]
    },
    {
      "cell_type": "markdown",
      "id": "d50885bf",
      "metadata": {
        "id": "d50885bf"
      },
      "source": [
        "### Imports & Load dataset"
      ]
    },
    {
      "cell_type": "code",
      "execution_count": null,
      "id": "cdde07c0",
      "metadata": {
        "id": "cdde07c0"
      },
      "outputs": [],
      "source": [
        "import pandas as pd\n",
        "import numpy as np\n",
        "import matplotlib.pyplot as plt\n",
        "\n",
        "import warnings\n",
        "warnings.filterwarnings('ignore')\n",
        "\n",
        "#to display all rows and columns\n",
        "pd.set_option('display.max_rows', None)\n",
        "pd.set_option('display.max_columns', None)\n",
        "pd.set_option('display.expand_frame_repr', False)\n",
        "pd.set_option('max_colwidth', -1)"
      ]
    },
    {
      "cell_type": "code",
      "execution_count": null,
      "id": "a7ad6310",
      "metadata": {
        "id": "a7ad6310"
      },
      "outputs": [],
      "source": [
        "ipl_df = pd.read_csv('IPL_ball_by_ball.csv')"
      ]
    },
    {
      "cell_type": "markdown",
      "id": "c844ca88",
      "metadata": {
        "id": "c844ca88"
      },
      "source": [
        "### Sneak peak into the data:"
      ]
    },
    {
      "cell_type": "code",
      "execution_count": null,
      "id": "269b25a2",
      "metadata": {
        "id": "269b25a2",
        "outputId": "f40f20c4-012c-4c5b-cf8a-d1f49b0b16de"
      },
      "outputs": [
        {
          "data": {
            "text/html": [
              "<div>\n",
              "<style scoped>\n",
              "    .dataframe tbody tr th:only-of-type {\n",
              "        vertical-align: middle;\n",
              "    }\n",
              "\n",
              "    .dataframe tbody tr th {\n",
              "        vertical-align: top;\n",
              "    }\n",
              "\n",
              "    .dataframe thead th {\n",
              "        text-align: right;\n",
              "    }\n",
              "</style>\n",
              "<table border=\"1\" class=\"dataframe\">\n",
              "  <thead>\n",
              "    <tr style=\"text-align: right;\">\n",
              "      <th></th>\n",
              "      <th>match_id</th>\n",
              "      <th>season</th>\n",
              "      <th>start_date</th>\n",
              "      <th>venue</th>\n",
              "      <th>innings</th>\n",
              "      <th>ball</th>\n",
              "      <th>batting_team</th>\n",
              "      <th>bowling_team</th>\n",
              "      <th>striker</th>\n",
              "      <th>non_striker</th>\n",
              "      <th>bowler</th>\n",
              "      <th>runs_off_bat</th>\n",
              "      <th>extras</th>\n",
              "      <th>wides</th>\n",
              "      <th>noballs</th>\n",
              "      <th>byes</th>\n",
              "      <th>legbyes</th>\n",
              "      <th>penalty</th>\n",
              "      <th>wicket_type</th>\n",
              "      <th>player_dismissed</th>\n",
              "      <th>other_wicket_type</th>\n",
              "      <th>other_player_dismissed</th>\n",
              "    </tr>\n",
              "  </thead>\n",
              "  <tbody>\n",
              "    <tr>\n",
              "      <th>0</th>\n",
              "      <td>335982</td>\n",
              "      <td>2008</td>\n",
              "      <td>2008-04-18</td>\n",
              "      <td>M Chinnaswamy Stadium</td>\n",
              "      <td>1</td>\n",
              "      <td>0.1</td>\n",
              "      <td>Kolkata Knight Riders</td>\n",
              "      <td>Royal Challengers Bangalore</td>\n",
              "      <td>SC Ganguly</td>\n",
              "      <td>BB McCullum</td>\n",
              "      <td>P Kumar</td>\n",
              "      <td>0</td>\n",
              "      <td>1</td>\n",
              "      <td>NaN</td>\n",
              "      <td>NaN</td>\n",
              "      <td>NaN</td>\n",
              "      <td>1.0</td>\n",
              "      <td>NaN</td>\n",
              "      <td>NaN</td>\n",
              "      <td>NaN</td>\n",
              "      <td>NaN</td>\n",
              "      <td>NaN</td>\n",
              "    </tr>\n",
              "    <tr>\n",
              "      <th>1</th>\n",
              "      <td>335982</td>\n",
              "      <td>2008</td>\n",
              "      <td>2008-04-18</td>\n",
              "      <td>M Chinnaswamy Stadium</td>\n",
              "      <td>2</td>\n",
              "      <td>3.1</td>\n",
              "      <td>Royal Challengers Bangalore</td>\n",
              "      <td>Kolkata Knight Riders</td>\n",
              "      <td>W Jaffer</td>\n",
              "      <td>JH Kallis</td>\n",
              "      <td>I Sharma</td>\n",
              "      <td>2</td>\n",
              "      <td>0</td>\n",
              "      <td>NaN</td>\n",
              "      <td>NaN</td>\n",
              "      <td>NaN</td>\n",
              "      <td>NaN</td>\n",
              "      <td>NaN</td>\n",
              "      <td>NaN</td>\n",
              "      <td>NaN</td>\n",
              "      <td>NaN</td>\n",
              "      <td>NaN</td>\n",
              "    </tr>\n",
              "    <tr>\n",
              "      <th>2</th>\n",
              "      <td>335982</td>\n",
              "      <td>2008</td>\n",
              "      <td>2008-04-18</td>\n",
              "      <td>M Chinnaswamy Stadium</td>\n",
              "      <td>2</td>\n",
              "      <td>3.2</td>\n",
              "      <td>Royal Challengers Bangalore</td>\n",
              "      <td>Kolkata Knight Riders</td>\n",
              "      <td>W Jaffer</td>\n",
              "      <td>JH Kallis</td>\n",
              "      <td>I Sharma</td>\n",
              "      <td>1</td>\n",
              "      <td>0</td>\n",
              "      <td>NaN</td>\n",
              "      <td>NaN</td>\n",
              "      <td>NaN</td>\n",
              "      <td>NaN</td>\n",
              "      <td>NaN</td>\n",
              "      <td>NaN</td>\n",
              "      <td>NaN</td>\n",
              "      <td>NaN</td>\n",
              "      <td>NaN</td>\n",
              "    </tr>\n",
              "    <tr>\n",
              "      <th>3</th>\n",
              "      <td>335982</td>\n",
              "      <td>2008</td>\n",
              "      <td>2008-04-18</td>\n",
              "      <td>M Chinnaswamy Stadium</td>\n",
              "      <td>2</td>\n",
              "      <td>3.3</td>\n",
              "      <td>Royal Challengers Bangalore</td>\n",
              "      <td>Kolkata Knight Riders</td>\n",
              "      <td>JH Kallis</td>\n",
              "      <td>W Jaffer</td>\n",
              "      <td>I Sharma</td>\n",
              "      <td>0</td>\n",
              "      <td>0</td>\n",
              "      <td>NaN</td>\n",
              "      <td>NaN</td>\n",
              "      <td>NaN</td>\n",
              "      <td>NaN</td>\n",
              "      <td>NaN</td>\n",
              "      <td>NaN</td>\n",
              "      <td>NaN</td>\n",
              "      <td>NaN</td>\n",
              "      <td>NaN</td>\n",
              "    </tr>\n",
              "    <tr>\n",
              "      <th>4</th>\n",
              "      <td>335982</td>\n",
              "      <td>2008</td>\n",
              "      <td>2008-04-18</td>\n",
              "      <td>M Chinnaswamy Stadium</td>\n",
              "      <td>2</td>\n",
              "      <td>3.4</td>\n",
              "      <td>Royal Challengers Bangalore</td>\n",
              "      <td>Kolkata Knight Riders</td>\n",
              "      <td>JH Kallis</td>\n",
              "      <td>W Jaffer</td>\n",
              "      <td>I Sharma</td>\n",
              "      <td>0</td>\n",
              "      <td>1</td>\n",
              "      <td>NaN</td>\n",
              "      <td>NaN</td>\n",
              "      <td>NaN</td>\n",
              "      <td>1.0</td>\n",
              "      <td>NaN</td>\n",
              "      <td>NaN</td>\n",
              "      <td>NaN</td>\n",
              "      <td>NaN</td>\n",
              "      <td>NaN</td>\n",
              "    </tr>\n",
              "  </tbody>\n",
              "</table>\n",
              "</div>"
            ],
            "text/plain": [
              "   match_id  season  start_date                  venue  innings  ball                 batting_team                 bowling_team     striker  non_striker    bowler  runs_off_bat  extras  wides  noballs  byes  legbyes  penalty wicket_type player_dismissed  other_wicket_type  other_player_dismissed\n",
              "0  335982    2008    2008-04-18  M Chinnaswamy Stadium  1        0.1   Kolkata Knight Riders        Royal Challengers Bangalore  SC Ganguly  BB McCullum  P Kumar   0             1      NaN    NaN      NaN    1.0     NaN       NaN         NaN             NaN                NaN                    \n",
              "1  335982    2008    2008-04-18  M Chinnaswamy Stadium  2        3.1   Royal Challengers Bangalore  Kolkata Knight Riders        W Jaffer    JH Kallis    I Sharma  2             0      NaN    NaN      NaN   NaN      NaN       NaN         NaN             NaN                NaN                    \n",
              "2  335982    2008    2008-04-18  M Chinnaswamy Stadium  2        3.2   Royal Challengers Bangalore  Kolkata Knight Riders        W Jaffer    JH Kallis    I Sharma  1             0      NaN    NaN      NaN   NaN      NaN       NaN         NaN             NaN                NaN                    \n",
              "3  335982    2008    2008-04-18  M Chinnaswamy Stadium  2        3.3   Royal Challengers Bangalore  Kolkata Knight Riders        JH Kallis   W Jaffer     I Sharma  0             0      NaN    NaN      NaN   NaN      NaN       NaN         NaN             NaN                NaN                    \n",
              "4  335982    2008    2008-04-18  M Chinnaswamy Stadium  2        3.4   Royal Challengers Bangalore  Kolkata Knight Riders        JH Kallis   W Jaffer     I Sharma  0             1      NaN    NaN      NaN    1.0     NaN       NaN         NaN             NaN                NaN                    "
            ]
          },
          "execution_count": 3,
          "metadata": {},
          "output_type": "execute_result"
        }
      ],
      "source": [
        "ipl_df.head(5)"
      ]
    },
    {
      "cell_type": "code",
      "execution_count": null,
      "id": "c85b8cee",
      "metadata": {
        "id": "c85b8cee",
        "outputId": "146a2494-d33e-4bed-8725-1b248dba7672"
      },
      "outputs": [
        {
          "data": {
            "text/plain": [
              "array(['Kolkata Knight Riders', 'Royal Challengers Bangalore',\n",
              "       'Rajasthan Royals', 'Kings XI Punjab', 'Delhi Daredevils',\n",
              "       'Chennai Super Kings', 'Deccan Chargers', 'Mumbai Indians',\n",
              "       'Kochi Tuskers Kerala', 'Pune Warriors', 'Sunrisers Hyderabad',\n",
              "       'Rising Pune Supergiants', 'Gujarat Lions',\n",
              "       'Rising Pune Supergiant', 'Delhi Capitals', 'Punjab Kings'],\n",
              "      dtype=object)"
            ]
          },
          "execution_count": 4,
          "metadata": {},
          "output_type": "execute_result"
        }
      ],
      "source": [
        "ipl_df.batting_team.unique()"
      ]
    },
    {
      "cell_type": "code",
      "execution_count": null,
      "id": "6709b776",
      "metadata": {
        "id": "6709b776",
        "outputId": "ea731025-4369-41c1-a7da-6abfb38fdf62"
      },
      "outputs": [
        {
          "data": {
            "text/plain": [
              "array([1, 2, 4, 3, 5, 6], dtype=int64)"
            ]
          },
          "execution_count": 5,
          "metadata": {},
          "output_type": "execute_result"
        }
      ],
      "source": [
        "ipl_df.innings.unique()"
      ]
    },
    {
      "cell_type": "code",
      "execution_count": null,
      "id": "5ede7c44",
      "metadata": {
        "id": "5ede7c44"
      },
      "outputs": [],
      "source": [
        "ipl_df = ipl_df[(ipl_df.innings == 1) | (ipl_df.innings == 2)]"
      ]
    },
    {
      "cell_type": "code",
      "execution_count": null,
      "id": "b5cb1954",
      "metadata": {
        "id": "b5cb1954",
        "outputId": "b94b1711-5401-4f36-884a-41c9b150e990"
      },
      "outputs": [
        {
          "data": {
            "text/plain": [
              "array([1, 2], dtype=int64)"
            ]
          },
          "execution_count": 7,
          "metadata": {},
          "output_type": "execute_result"
        }
      ],
      "source": [
        "ipl_df.innings.unique()"
      ]
    },
    {
      "cell_type": "markdown",
      "id": "1cf0c9ec",
      "metadata": {
        "id": "1cf0c9ec"
      },
      "source": [
        "### Additional Columns:\n"
      ]
    },
    {
      "cell_type": "code",
      "execution_count": null,
      "id": "9f2de43f",
      "metadata": {
        "id": "9f2de43f"
      },
      "outputs": [],
      "source": [
        "#1. total runs in each ball\n",
        "#2. is there a wicket fall in that ball"
      ]
    },
    {
      "cell_type": "code",
      "execution_count": null,
      "id": "39d8117c",
      "metadata": {
        "id": "39d8117c"
      },
      "outputs": [],
      "source": [
        "ipl_df['total_runs']= ipl_df.apply(lambda x: x['runs_off_bat'] + x['extras'], axis = 1)"
      ]
    },
    {
      "cell_type": "code",
      "execution_count": null,
      "id": "ac14bb3a",
      "metadata": {
        "scrolled": true,
        "id": "ac14bb3a",
        "outputId": "df04ba16-1d21-4e25-bf61-f0ef0279bf57"
      },
      "outputs": [
        {
          "data": {
            "text/html": [
              "<div>\n",
              "<style scoped>\n",
              "    .dataframe tbody tr th:only-of-type {\n",
              "        vertical-align: middle;\n",
              "    }\n",
              "\n",
              "    .dataframe tbody tr th {\n",
              "        vertical-align: top;\n",
              "    }\n",
              "\n",
              "    .dataframe thead th {\n",
              "        text-align: right;\n",
              "    }\n",
              "</style>\n",
              "<table border=\"1\" class=\"dataframe\">\n",
              "  <thead>\n",
              "    <tr style=\"text-align: right;\">\n",
              "      <th></th>\n",
              "      <th>match_id</th>\n",
              "      <th>season</th>\n",
              "      <th>start_date</th>\n",
              "      <th>venue</th>\n",
              "      <th>innings</th>\n",
              "      <th>ball</th>\n",
              "      <th>batting_team</th>\n",
              "      <th>bowling_team</th>\n",
              "      <th>striker</th>\n",
              "      <th>non_striker</th>\n",
              "      <th>bowler</th>\n",
              "      <th>runs_off_bat</th>\n",
              "      <th>extras</th>\n",
              "      <th>wides</th>\n",
              "      <th>noballs</th>\n",
              "      <th>byes</th>\n",
              "      <th>legbyes</th>\n",
              "      <th>penalty</th>\n",
              "      <th>wicket_type</th>\n",
              "      <th>player_dismissed</th>\n",
              "      <th>other_wicket_type</th>\n",
              "      <th>other_player_dismissed</th>\n",
              "      <th>total_runs</th>\n",
              "    </tr>\n",
              "  </thead>\n",
              "  <tbody>\n",
              "    <tr>\n",
              "      <th>0</th>\n",
              "      <td>335982</td>\n",
              "      <td>2008</td>\n",
              "      <td>2008-04-18</td>\n",
              "      <td>M Chinnaswamy Stadium</td>\n",
              "      <td>1</td>\n",
              "      <td>0.1</td>\n",
              "      <td>Kolkata Knight Riders</td>\n",
              "      <td>Royal Challengers Bangalore</td>\n",
              "      <td>SC Ganguly</td>\n",
              "      <td>BB McCullum</td>\n",
              "      <td>P Kumar</td>\n",
              "      <td>0</td>\n",
              "      <td>1</td>\n",
              "      <td>NaN</td>\n",
              "      <td>NaN</td>\n",
              "      <td>NaN</td>\n",
              "      <td>1.0</td>\n",
              "      <td>NaN</td>\n",
              "      <td>NaN</td>\n",
              "      <td>NaN</td>\n",
              "      <td>NaN</td>\n",
              "      <td>NaN</td>\n",
              "      <td>1</td>\n",
              "    </tr>\n",
              "    <tr>\n",
              "      <th>1</th>\n",
              "      <td>335982</td>\n",
              "      <td>2008</td>\n",
              "      <td>2008-04-18</td>\n",
              "      <td>M Chinnaswamy Stadium</td>\n",
              "      <td>2</td>\n",
              "      <td>3.1</td>\n",
              "      <td>Royal Challengers Bangalore</td>\n",
              "      <td>Kolkata Knight Riders</td>\n",
              "      <td>W Jaffer</td>\n",
              "      <td>JH Kallis</td>\n",
              "      <td>I Sharma</td>\n",
              "      <td>2</td>\n",
              "      <td>0</td>\n",
              "      <td>NaN</td>\n",
              "      <td>NaN</td>\n",
              "      <td>NaN</td>\n",
              "      <td>NaN</td>\n",
              "      <td>NaN</td>\n",
              "      <td>NaN</td>\n",
              "      <td>NaN</td>\n",
              "      <td>NaN</td>\n",
              "      <td>NaN</td>\n",
              "      <td>2</td>\n",
              "    </tr>\n",
              "    <tr>\n",
              "      <th>2</th>\n",
              "      <td>335982</td>\n",
              "      <td>2008</td>\n",
              "      <td>2008-04-18</td>\n",
              "      <td>M Chinnaswamy Stadium</td>\n",
              "      <td>2</td>\n",
              "      <td>3.2</td>\n",
              "      <td>Royal Challengers Bangalore</td>\n",
              "      <td>Kolkata Knight Riders</td>\n",
              "      <td>W Jaffer</td>\n",
              "      <td>JH Kallis</td>\n",
              "      <td>I Sharma</td>\n",
              "      <td>1</td>\n",
              "      <td>0</td>\n",
              "      <td>NaN</td>\n",
              "      <td>NaN</td>\n",
              "      <td>NaN</td>\n",
              "      <td>NaN</td>\n",
              "      <td>NaN</td>\n",
              "      <td>NaN</td>\n",
              "      <td>NaN</td>\n",
              "      <td>NaN</td>\n",
              "      <td>NaN</td>\n",
              "      <td>1</td>\n",
              "    </tr>\n",
              "    <tr>\n",
              "      <th>3</th>\n",
              "      <td>335982</td>\n",
              "      <td>2008</td>\n",
              "      <td>2008-04-18</td>\n",
              "      <td>M Chinnaswamy Stadium</td>\n",
              "      <td>2</td>\n",
              "      <td>3.3</td>\n",
              "      <td>Royal Challengers Bangalore</td>\n",
              "      <td>Kolkata Knight Riders</td>\n",
              "      <td>JH Kallis</td>\n",
              "      <td>W Jaffer</td>\n",
              "      <td>I Sharma</td>\n",
              "      <td>0</td>\n",
              "      <td>0</td>\n",
              "      <td>NaN</td>\n",
              "      <td>NaN</td>\n",
              "      <td>NaN</td>\n",
              "      <td>NaN</td>\n",
              "      <td>NaN</td>\n",
              "      <td>NaN</td>\n",
              "      <td>NaN</td>\n",
              "      <td>NaN</td>\n",
              "      <td>NaN</td>\n",
              "      <td>0</td>\n",
              "    </tr>\n",
              "    <tr>\n",
              "      <th>4</th>\n",
              "      <td>335982</td>\n",
              "      <td>2008</td>\n",
              "      <td>2008-04-18</td>\n",
              "      <td>M Chinnaswamy Stadium</td>\n",
              "      <td>2</td>\n",
              "      <td>3.4</td>\n",
              "      <td>Royal Challengers Bangalore</td>\n",
              "      <td>Kolkata Knight Riders</td>\n",
              "      <td>JH Kallis</td>\n",
              "      <td>W Jaffer</td>\n",
              "      <td>I Sharma</td>\n",
              "      <td>0</td>\n",
              "      <td>1</td>\n",
              "      <td>NaN</td>\n",
              "      <td>NaN</td>\n",
              "      <td>NaN</td>\n",
              "      <td>1.0</td>\n",
              "      <td>NaN</td>\n",
              "      <td>NaN</td>\n",
              "      <td>NaN</td>\n",
              "      <td>NaN</td>\n",
              "      <td>NaN</td>\n",
              "      <td>1</td>\n",
              "    </tr>\n",
              "    <tr>\n",
              "      <th>5</th>\n",
              "      <td>335982</td>\n",
              "      <td>2008</td>\n",
              "      <td>2008-04-18</td>\n",
              "      <td>M Chinnaswamy Stadium</td>\n",
              "      <td>2</td>\n",
              "      <td>3.5</td>\n",
              "      <td>Royal Challengers Bangalore</td>\n",
              "      <td>Kolkata Knight Riders</td>\n",
              "      <td>W Jaffer</td>\n",
              "      <td>JH Kallis</td>\n",
              "      <td>I Sharma</td>\n",
              "      <td>0</td>\n",
              "      <td>0</td>\n",
              "      <td>NaN</td>\n",
              "      <td>NaN</td>\n",
              "      <td>NaN</td>\n",
              "      <td>NaN</td>\n",
              "      <td>NaN</td>\n",
              "      <td>NaN</td>\n",
              "      <td>NaN</td>\n",
              "      <td>NaN</td>\n",
              "      <td>NaN</td>\n",
              "      <td>0</td>\n",
              "    </tr>\n",
              "    <tr>\n",
              "      <th>6</th>\n",
              "      <td>335982</td>\n",
              "      <td>2008</td>\n",
              "      <td>2008-04-18</td>\n",
              "      <td>M Chinnaswamy Stadium</td>\n",
              "      <td>2</td>\n",
              "      <td>3.6</td>\n",
              "      <td>Royal Challengers Bangalore</td>\n",
              "      <td>Kolkata Knight Riders</td>\n",
              "      <td>W Jaffer</td>\n",
              "      <td>JH Kallis</td>\n",
              "      <td>I Sharma</td>\n",
              "      <td>0</td>\n",
              "      <td>0</td>\n",
              "      <td>NaN</td>\n",
              "      <td>NaN</td>\n",
              "      <td>NaN</td>\n",
              "      <td>NaN</td>\n",
              "      <td>NaN</td>\n",
              "      <td>NaN</td>\n",
              "      <td>NaN</td>\n",
              "      <td>NaN</td>\n",
              "      <td>NaN</td>\n",
              "      <td>0</td>\n",
              "    </tr>\n",
              "    <tr>\n",
              "      <th>7</th>\n",
              "      <td>335982</td>\n",
              "      <td>2008</td>\n",
              "      <td>2008-04-18</td>\n",
              "      <td>M Chinnaswamy Stadium</td>\n",
              "      <td>2</td>\n",
              "      <td>4.1</td>\n",
              "      <td>Royal Challengers Bangalore</td>\n",
              "      <td>Kolkata Knight Riders</td>\n",
              "      <td>JH Kallis</td>\n",
              "      <td>W Jaffer</td>\n",
              "      <td>AB Agarkar</td>\n",
              "      <td>1</td>\n",
              "      <td>0</td>\n",
              "      <td>NaN</td>\n",
              "      <td>NaN</td>\n",
              "      <td>NaN</td>\n",
              "      <td>NaN</td>\n",
              "      <td>NaN</td>\n",
              "      <td>NaN</td>\n",
              "      <td>NaN</td>\n",
              "      <td>NaN</td>\n",
              "      <td>NaN</td>\n",
              "      <td>1</td>\n",
              "    </tr>\n",
              "    <tr>\n",
              "      <th>8</th>\n",
              "      <td>335982</td>\n",
              "      <td>2008</td>\n",
              "      <td>2008-04-18</td>\n",
              "      <td>M Chinnaswamy Stadium</td>\n",
              "      <td>2</td>\n",
              "      <td>4.2</td>\n",
              "      <td>Royal Challengers Bangalore</td>\n",
              "      <td>Kolkata Knight Riders</td>\n",
              "      <td>W Jaffer</td>\n",
              "      <td>JH Kallis</td>\n",
              "      <td>AB Agarkar</td>\n",
              "      <td>1</td>\n",
              "      <td>0</td>\n",
              "      <td>NaN</td>\n",
              "      <td>NaN</td>\n",
              "      <td>NaN</td>\n",
              "      <td>NaN</td>\n",
              "      <td>NaN</td>\n",
              "      <td>NaN</td>\n",
              "      <td>NaN</td>\n",
              "      <td>NaN</td>\n",
              "      <td>NaN</td>\n",
              "      <td>1</td>\n",
              "    </tr>\n",
              "    <tr>\n",
              "      <th>9</th>\n",
              "      <td>335982</td>\n",
              "      <td>2008</td>\n",
              "      <td>2008-04-18</td>\n",
              "      <td>M Chinnaswamy Stadium</td>\n",
              "      <td>2</td>\n",
              "      <td>4.3</td>\n",
              "      <td>Royal Challengers Bangalore</td>\n",
              "      <td>Kolkata Knight Riders</td>\n",
              "      <td>JH Kallis</td>\n",
              "      <td>W Jaffer</td>\n",
              "      <td>AB Agarkar</td>\n",
              "      <td>0</td>\n",
              "      <td>0</td>\n",
              "      <td>NaN</td>\n",
              "      <td>NaN</td>\n",
              "      <td>NaN</td>\n",
              "      <td>NaN</td>\n",
              "      <td>NaN</td>\n",
              "      <td>NaN</td>\n",
              "      <td>NaN</td>\n",
              "      <td>NaN</td>\n",
              "      <td>NaN</td>\n",
              "      <td>0</td>\n",
              "    </tr>\n",
              "    <tr>\n",
              "      <th>10</th>\n",
              "      <td>335982</td>\n",
              "      <td>2008</td>\n",
              "      <td>2008-04-18</td>\n",
              "      <td>M Chinnaswamy Stadium</td>\n",
              "      <td>2</td>\n",
              "      <td>4.4</td>\n",
              "      <td>Royal Challengers Bangalore</td>\n",
              "      <td>Kolkata Knight Riders</td>\n",
              "      <td>JH Kallis</td>\n",
              "      <td>W Jaffer</td>\n",
              "      <td>AB Agarkar</td>\n",
              "      <td>6</td>\n",
              "      <td>0</td>\n",
              "      <td>NaN</td>\n",
              "      <td>NaN</td>\n",
              "      <td>NaN</td>\n",
              "      <td>NaN</td>\n",
              "      <td>NaN</td>\n",
              "      <td>NaN</td>\n",
              "      <td>NaN</td>\n",
              "      <td>NaN</td>\n",
              "      <td>NaN</td>\n",
              "      <td>6</td>\n",
              "    </tr>\n",
              "    <tr>\n",
              "      <th>11</th>\n",
              "      <td>335982</td>\n",
              "      <td>2008</td>\n",
              "      <td>2008-04-18</td>\n",
              "      <td>M Chinnaswamy Stadium</td>\n",
              "      <td>2</td>\n",
              "      <td>4.5</td>\n",
              "      <td>Royal Challengers Bangalore</td>\n",
              "      <td>Kolkata Knight Riders</td>\n",
              "      <td>JH Kallis</td>\n",
              "      <td>W Jaffer</td>\n",
              "      <td>AB Agarkar</td>\n",
              "      <td>0</td>\n",
              "      <td>0</td>\n",
              "      <td>NaN</td>\n",
              "      <td>NaN</td>\n",
              "      <td>NaN</td>\n",
              "      <td>NaN</td>\n",
              "      <td>NaN</td>\n",
              "      <td>caught</td>\n",
              "      <td>JH Kallis</td>\n",
              "      <td>NaN</td>\n",
              "      <td>NaN</td>\n",
              "      <td>0</td>\n",
              "    </tr>\n",
              "    <tr>\n",
              "      <th>12</th>\n",
              "      <td>335982</td>\n",
              "      <td>2008</td>\n",
              "      <td>2008-04-18</td>\n",
              "      <td>M Chinnaswamy Stadium</td>\n",
              "      <td>2</td>\n",
              "      <td>2.7</td>\n",
              "      <td>Royal Challengers Bangalore</td>\n",
              "      <td>Kolkata Knight Riders</td>\n",
              "      <td>W Jaffer</td>\n",
              "      <td>JH Kallis</td>\n",
              "      <td>AB Dinda</td>\n",
              "      <td>1</td>\n",
              "      <td>0</td>\n",
              "      <td>NaN</td>\n",
              "      <td>NaN</td>\n",
              "      <td>NaN</td>\n",
              "      <td>NaN</td>\n",
              "      <td>NaN</td>\n",
              "      <td>NaN</td>\n",
              "      <td>NaN</td>\n",
              "      <td>NaN</td>\n",
              "      <td>NaN</td>\n",
              "      <td>1</td>\n",
              "    </tr>\n",
              "    <tr>\n",
              "      <th>13</th>\n",
              "      <td>335982</td>\n",
              "      <td>2008</td>\n",
              "      <td>2008-04-18</td>\n",
              "      <td>M Chinnaswamy Stadium</td>\n",
              "      <td>2</td>\n",
              "      <td>4.6</td>\n",
              "      <td>Royal Challengers Bangalore</td>\n",
              "      <td>Kolkata Knight Riders</td>\n",
              "      <td>CL White</td>\n",
              "      <td>W Jaffer</td>\n",
              "      <td>AB Agarkar</td>\n",
              "      <td>0</td>\n",
              "      <td>0</td>\n",
              "      <td>NaN</td>\n",
              "      <td>NaN</td>\n",
              "      <td>NaN</td>\n",
              "      <td>NaN</td>\n",
              "      <td>NaN</td>\n",
              "      <td>NaN</td>\n",
              "      <td>NaN</td>\n",
              "      <td>NaN</td>\n",
              "      <td>NaN</td>\n",
              "      <td>0</td>\n",
              "    </tr>\n",
              "    <tr>\n",
              "      <th>14</th>\n",
              "      <td>335982</td>\n",
              "      <td>2008</td>\n",
              "      <td>2008-04-18</td>\n",
              "      <td>M Chinnaswamy Stadium</td>\n",
              "      <td>2</td>\n",
              "      <td>5.2</td>\n",
              "      <td>Royal Challengers Bangalore</td>\n",
              "      <td>Kolkata Knight Riders</td>\n",
              "      <td>W Jaffer</td>\n",
              "      <td>CL White</td>\n",
              "      <td>AB Dinda</td>\n",
              "      <td>0</td>\n",
              "      <td>0</td>\n",
              "      <td>NaN</td>\n",
              "      <td>NaN</td>\n",
              "      <td>NaN</td>\n",
              "      <td>NaN</td>\n",
              "      <td>NaN</td>\n",
              "      <td>caught</td>\n",
              "      <td>W Jaffer</td>\n",
              "      <td>NaN</td>\n",
              "      <td>NaN</td>\n",
              "      <td>0</td>\n",
              "    </tr>\n",
              "    <tr>\n",
              "      <th>15</th>\n",
              "      <td>335982</td>\n",
              "      <td>2008</td>\n",
              "      <td>2008-04-18</td>\n",
              "      <td>M Chinnaswamy Stadium</td>\n",
              "      <td>2</td>\n",
              "      <td>5.3</td>\n",
              "      <td>Royal Challengers Bangalore</td>\n",
              "      <td>Kolkata Knight Riders</td>\n",
              "      <td>MV Boucher</td>\n",
              "      <td>CL White</td>\n",
              "      <td>AB Dinda</td>\n",
              "      <td>0</td>\n",
              "      <td>0</td>\n",
              "      <td>NaN</td>\n",
              "      <td>NaN</td>\n",
              "      <td>NaN</td>\n",
              "      <td>NaN</td>\n",
              "      <td>NaN</td>\n",
              "      <td>NaN</td>\n",
              "      <td>NaN</td>\n",
              "      <td>NaN</td>\n",
              "      <td>NaN</td>\n",
              "      <td>0</td>\n",
              "    </tr>\n",
              "    <tr>\n",
              "      <th>16</th>\n",
              "      <td>335982</td>\n",
              "      <td>2008</td>\n",
              "      <td>2008-04-18</td>\n",
              "      <td>M Chinnaswamy Stadium</td>\n",
              "      <td>2</td>\n",
              "      <td>5.4</td>\n",
              "      <td>Royal Challengers Bangalore</td>\n",
              "      <td>Kolkata Knight Riders</td>\n",
              "      <td>MV Boucher</td>\n",
              "      <td>CL White</td>\n",
              "      <td>AB Dinda</td>\n",
              "      <td>1</td>\n",
              "      <td>0</td>\n",
              "      <td>NaN</td>\n",
              "      <td>NaN</td>\n",
              "      <td>NaN</td>\n",
              "      <td>NaN</td>\n",
              "      <td>NaN</td>\n",
              "      <td>NaN</td>\n",
              "      <td>NaN</td>\n",
              "      <td>NaN</td>\n",
              "      <td>NaN</td>\n",
              "      <td>1</td>\n",
              "    </tr>\n",
              "    <tr>\n",
              "      <th>17</th>\n",
              "      <td>335982</td>\n",
              "      <td>2008</td>\n",
              "      <td>2008-04-18</td>\n",
              "      <td>M Chinnaswamy Stadium</td>\n",
              "      <td>2</td>\n",
              "      <td>5.5</td>\n",
              "      <td>Royal Challengers Bangalore</td>\n",
              "      <td>Kolkata Knight Riders</td>\n",
              "      <td>CL White</td>\n",
              "      <td>MV Boucher</td>\n",
              "      <td>AB Dinda</td>\n",
              "      <td>1</td>\n",
              "      <td>0</td>\n",
              "      <td>NaN</td>\n",
              "      <td>NaN</td>\n",
              "      <td>NaN</td>\n",
              "      <td>NaN</td>\n",
              "      <td>NaN</td>\n",
              "      <td>NaN</td>\n",
              "      <td>NaN</td>\n",
              "      <td>NaN</td>\n",
              "      <td>NaN</td>\n",
              "      <td>1</td>\n",
              "    </tr>\n",
              "    <tr>\n",
              "      <th>18</th>\n",
              "      <td>335982</td>\n",
              "      <td>2008</td>\n",
              "      <td>2008-04-18</td>\n",
              "      <td>M Chinnaswamy Stadium</td>\n",
              "      <td>2</td>\n",
              "      <td>5.6</td>\n",
              "      <td>Royal Challengers Bangalore</td>\n",
              "      <td>Kolkata Knight Riders</td>\n",
              "      <td>MV Boucher</td>\n",
              "      <td>CL White</td>\n",
              "      <td>AB Dinda</td>\n",
              "      <td>0</td>\n",
              "      <td>0</td>\n",
              "      <td>NaN</td>\n",
              "      <td>NaN</td>\n",
              "      <td>NaN</td>\n",
              "      <td>NaN</td>\n",
              "      <td>NaN</td>\n",
              "      <td>NaN</td>\n",
              "      <td>NaN</td>\n",
              "      <td>NaN</td>\n",
              "      <td>NaN</td>\n",
              "      <td>0</td>\n",
              "    </tr>\n",
              "    <tr>\n",
              "      <th>19</th>\n",
              "      <td>335982</td>\n",
              "      <td>2008</td>\n",
              "      <td>2008-04-18</td>\n",
              "      <td>M Chinnaswamy Stadium</td>\n",
              "      <td>2</td>\n",
              "      <td>6.1</td>\n",
              "      <td>Royal Challengers Bangalore</td>\n",
              "      <td>Kolkata Knight Riders</td>\n",
              "      <td>CL White</td>\n",
              "      <td>MV Boucher</td>\n",
              "      <td>AB Agarkar</td>\n",
              "      <td>0</td>\n",
              "      <td>0</td>\n",
              "      <td>NaN</td>\n",
              "      <td>NaN</td>\n",
              "      <td>NaN</td>\n",
              "      <td>NaN</td>\n",
              "      <td>NaN</td>\n",
              "      <td>NaN</td>\n",
              "      <td>NaN</td>\n",
              "      <td>NaN</td>\n",
              "      <td>NaN</td>\n",
              "      <td>0</td>\n",
              "    </tr>\n",
              "  </tbody>\n",
              "</table>\n",
              "</div>"
            ],
            "text/plain": [
              "    match_id  season  start_date                  venue  innings  ball                 batting_team                 bowling_team     striker  non_striker      bowler  runs_off_bat  extras  wides  noballs  byes  legbyes  penalty wicket_type player_dismissed  other_wicket_type  other_player_dismissed  total_runs\n",
              "0   335982    2008    2008-04-18  M Chinnaswamy Stadium  1        0.1   Kolkata Knight Riders        Royal Challengers Bangalore  SC Ganguly  BB McCullum  P Kumar     0             1      NaN    NaN      NaN    1.0     NaN       NaN         NaN             NaN                NaN                      1         \n",
              "1   335982    2008    2008-04-18  M Chinnaswamy Stadium  2        3.1   Royal Challengers Bangalore  Kolkata Knight Riders        W Jaffer    JH Kallis    I Sharma    2             0      NaN    NaN      NaN   NaN      NaN       NaN         NaN             NaN                NaN                      2         \n",
              "2   335982    2008    2008-04-18  M Chinnaswamy Stadium  2        3.2   Royal Challengers Bangalore  Kolkata Knight Riders        W Jaffer    JH Kallis    I Sharma    1             0      NaN    NaN      NaN   NaN      NaN       NaN         NaN             NaN                NaN                      1         \n",
              "3   335982    2008    2008-04-18  M Chinnaswamy Stadium  2        3.3   Royal Challengers Bangalore  Kolkata Knight Riders        JH Kallis   W Jaffer     I Sharma    0             0      NaN    NaN      NaN   NaN      NaN       NaN         NaN             NaN                NaN                      0         \n",
              "4   335982    2008    2008-04-18  M Chinnaswamy Stadium  2        3.4   Royal Challengers Bangalore  Kolkata Knight Riders        JH Kallis   W Jaffer     I Sharma    0             1      NaN    NaN      NaN    1.0     NaN       NaN         NaN             NaN                NaN                      1         \n",
              "5   335982    2008    2008-04-18  M Chinnaswamy Stadium  2        3.5   Royal Challengers Bangalore  Kolkata Knight Riders        W Jaffer    JH Kallis    I Sharma    0             0      NaN    NaN      NaN   NaN      NaN       NaN         NaN             NaN                NaN                      0         \n",
              "6   335982    2008    2008-04-18  M Chinnaswamy Stadium  2        3.6   Royal Challengers Bangalore  Kolkata Knight Riders        W Jaffer    JH Kallis    I Sharma    0             0      NaN    NaN      NaN   NaN      NaN       NaN         NaN             NaN                NaN                      0         \n",
              "7   335982    2008    2008-04-18  M Chinnaswamy Stadium  2        4.1   Royal Challengers Bangalore  Kolkata Knight Riders        JH Kallis   W Jaffer     AB Agarkar  1             0      NaN    NaN      NaN   NaN      NaN       NaN         NaN             NaN                NaN                      1         \n",
              "8   335982    2008    2008-04-18  M Chinnaswamy Stadium  2        4.2   Royal Challengers Bangalore  Kolkata Knight Riders        W Jaffer    JH Kallis    AB Agarkar  1             0      NaN    NaN      NaN   NaN      NaN       NaN         NaN             NaN                NaN                      1         \n",
              "9   335982    2008    2008-04-18  M Chinnaswamy Stadium  2        4.3   Royal Challengers Bangalore  Kolkata Knight Riders        JH Kallis   W Jaffer     AB Agarkar  0             0      NaN    NaN      NaN   NaN      NaN       NaN         NaN             NaN                NaN                      0         \n",
              "10  335982    2008    2008-04-18  M Chinnaswamy Stadium  2        4.4   Royal Challengers Bangalore  Kolkata Knight Riders        JH Kallis   W Jaffer     AB Agarkar  6             0      NaN    NaN      NaN   NaN      NaN       NaN         NaN             NaN                NaN                      6         \n",
              "11  335982    2008    2008-04-18  M Chinnaswamy Stadium  2        4.5   Royal Challengers Bangalore  Kolkata Knight Riders        JH Kallis   W Jaffer     AB Agarkar  0             0      NaN    NaN      NaN   NaN      NaN       caught      JH Kallis       NaN                NaN                      0         \n",
              "12  335982    2008    2008-04-18  M Chinnaswamy Stadium  2        2.7   Royal Challengers Bangalore  Kolkata Knight Riders        W Jaffer    JH Kallis    AB Dinda    1             0      NaN    NaN      NaN   NaN      NaN       NaN         NaN             NaN                NaN                      1         \n",
              "13  335982    2008    2008-04-18  M Chinnaswamy Stadium  2        4.6   Royal Challengers Bangalore  Kolkata Knight Riders        CL White    W Jaffer     AB Agarkar  0             0      NaN    NaN      NaN   NaN      NaN       NaN         NaN             NaN                NaN                      0         \n",
              "14  335982    2008    2008-04-18  M Chinnaswamy Stadium  2        5.2   Royal Challengers Bangalore  Kolkata Knight Riders        W Jaffer    CL White     AB Dinda    0             0      NaN    NaN      NaN   NaN      NaN       caught      W Jaffer        NaN                NaN                      0         \n",
              "15  335982    2008    2008-04-18  M Chinnaswamy Stadium  2        5.3   Royal Challengers Bangalore  Kolkata Knight Riders        MV Boucher  CL White     AB Dinda    0             0      NaN    NaN      NaN   NaN      NaN       NaN         NaN             NaN                NaN                      0         \n",
              "16  335982    2008    2008-04-18  M Chinnaswamy Stadium  2        5.4   Royal Challengers Bangalore  Kolkata Knight Riders        MV Boucher  CL White     AB Dinda    1             0      NaN    NaN      NaN   NaN      NaN       NaN         NaN             NaN                NaN                      1         \n",
              "17  335982    2008    2008-04-18  M Chinnaswamy Stadium  2        5.5   Royal Challengers Bangalore  Kolkata Knight Riders        CL White    MV Boucher   AB Dinda    1             0      NaN    NaN      NaN   NaN      NaN       NaN         NaN             NaN                NaN                      1         \n",
              "18  335982    2008    2008-04-18  M Chinnaswamy Stadium  2        5.6   Royal Challengers Bangalore  Kolkata Knight Riders        MV Boucher  CL White     AB Dinda    0             0      NaN    NaN      NaN   NaN      NaN       NaN         NaN             NaN                NaN                      0         \n",
              "19  335982    2008    2008-04-18  M Chinnaswamy Stadium  2        6.1   Royal Challengers Bangalore  Kolkata Knight Riders        CL White    MV Boucher   AB Agarkar  0             0      NaN    NaN      NaN   NaN      NaN       NaN         NaN             NaN                NaN                      0         "
            ]
          },
          "execution_count": 10,
          "metadata": {},
          "output_type": "execute_result"
        }
      ],
      "source": [
        "ipl_df.head(20)"
      ]
    },
    {
      "cell_type": "code",
      "execution_count": null,
      "id": "97a7768c",
      "metadata": {
        "id": "97a7768c",
        "outputId": "6c124b87-3b16-475b-b9ec-830e2eabe5c1"
      },
      "outputs": [
        {
          "data": {
            "text/plain": [
              "str"
            ]
          },
          "execution_count": 11,
          "metadata": {},
          "output_type": "execute_result"
        }
      ],
      "source": [
        "type(ipl_df.player_dismissed[11])"
      ]
    },
    {
      "cell_type": "code",
      "execution_count": null,
      "id": "142b5d4a",
      "metadata": {
        "id": "142b5d4a"
      },
      "outputs": [],
      "source": [
        "ipl_df['isout']= ipl_df['player_dismissed'].apply(lambda x: 1 if type(x) == type('str') else 0)"
      ]
    },
    {
      "cell_type": "markdown",
      "id": "0668ca94",
      "metadata": {
        "id": "0668ca94"
      },
      "source": [
        "### Choose Teams:"
      ]
    },
    {
      "cell_type": "code",
      "execution_count": null,
      "id": "d0237991",
      "metadata": {
        "id": "d0237991"
      },
      "outputs": [],
      "source": [
        "# t1 - bat first, t2 - bat second\n",
        "# Ex: MI vs RCB, (match_id: 1254058)\n",
        "\n",
        "t1= 'Mumbai Indians'\n",
        "t2= 'Chennai Super Kings'"
      ]
    },
    {
      "cell_type": "markdown",
      "id": "aaa09486",
      "metadata": {
        "id": "aaa09486"
      },
      "source": [
        "### Choose a match between these Teams:"
      ]
    },
    {
      "cell_type": "code",
      "execution_count": null,
      "id": "9c353455",
      "metadata": {
        "id": "9c353455",
        "outputId": "dd1bb315-5a4a-48c8-9300-7e43963a7819"
      },
      "outputs": [
        {
          "data": {
            "text/plain": [
              "array([ 392181,  392227,  501221,  598002,  598046,  598073,  729303,\n",
              "        733995,  734045,  829729,  829817,  829823, 1136561, 1175370,\n",
              "       1178419, 1181768, 1216492], dtype=int64)"
            ]
          },
          "execution_count": 15,
          "metadata": {},
          "output_type": "execute_result"
        }
      ],
      "source": [
        "ipl_df[(ipl_df.batting_team == t1) & (ipl_df.bowling_team == t2) & (ipl_df.innings ==1)].match_id.unique()"
      ]
    },
    {
      "cell_type": "code",
      "execution_count": null,
      "id": "efd1b67b",
      "metadata": {
        "id": "efd1b67b"
      },
      "outputs": [],
      "source": [
        "matchID = 1181768"
      ]
    },
    {
      "cell_type": "code",
      "execution_count": null,
      "id": "614f27da",
      "metadata": {
        "id": "614f27da"
      },
      "outputs": [],
      "source": [
        "mdf = ipl_df[ipl_df.match_id == matchID]"
      ]
    },
    {
      "cell_type": "code",
      "execution_count": null,
      "id": "1bc113d9",
      "metadata": {
        "id": "1bc113d9",
        "outputId": "f12c1be7-dc1d-4a68-9a5d-6ad0d526cff7"
      },
      "outputs": [
        {
          "data": {
            "text/html": [
              "<div>\n",
              "<style scoped>\n",
              "    .dataframe tbody tr th:only-of-type {\n",
              "        vertical-align: middle;\n",
              "    }\n",
              "\n",
              "    .dataframe tbody tr th {\n",
              "        vertical-align: top;\n",
              "    }\n",
              "\n",
              "    .dataframe thead th {\n",
              "        text-align: right;\n",
              "    }\n",
              "</style>\n",
              "<table border=\"1\" class=\"dataframe\">\n",
              "  <thead>\n",
              "    <tr style=\"text-align: right;\">\n",
              "      <th></th>\n",
              "      <th>match_id</th>\n",
              "      <th>season</th>\n",
              "      <th>start_date</th>\n",
              "      <th>venue</th>\n",
              "      <th>innings</th>\n",
              "      <th>ball</th>\n",
              "      <th>batting_team</th>\n",
              "      <th>bowling_team</th>\n",
              "      <th>striker</th>\n",
              "      <th>non_striker</th>\n",
              "      <th>bowler</th>\n",
              "      <th>runs_off_bat</th>\n",
              "      <th>extras</th>\n",
              "      <th>wides</th>\n",
              "      <th>noballs</th>\n",
              "      <th>byes</th>\n",
              "      <th>legbyes</th>\n",
              "      <th>penalty</th>\n",
              "      <th>wicket_type</th>\n",
              "      <th>player_dismissed</th>\n",
              "      <th>other_wicket_type</th>\n",
              "      <th>other_player_dismissed</th>\n",
              "      <th>total_runs</th>\n",
              "      <th>isout</th>\n",
              "    </tr>\n",
              "  </thead>\n",
              "  <tbody>\n",
              "    <tr>\n",
              "      <th>178810</th>\n",
              "      <td>1181768</td>\n",
              "      <td>2019</td>\n",
              "      <td>2019-05-12</td>\n",
              "      <td>Rajiv Gandhi International Stadium</td>\n",
              "      <td>2</td>\n",
              "      <td>7.2</td>\n",
              "      <td>Chennai Super Kings</td>\n",
              "      <td>Mumbai Indians</td>\n",
              "      <td>SR Watson</td>\n",
              "      <td>SK Raina</td>\n",
              "      <td>RD Chahar</td>\n",
              "      <td>0</td>\n",
              "      <td>0</td>\n",
              "      <td>NaN</td>\n",
              "      <td>NaN</td>\n",
              "      <td>NaN</td>\n",
              "      <td>NaN</td>\n",
              "      <td>NaN</td>\n",
              "      <td>NaN</td>\n",
              "      <td>NaN</td>\n",
              "      <td>NaN</td>\n",
              "      <td>NaN</td>\n",
              "      <td>0</td>\n",
              "      <td>0</td>\n",
              "    </tr>\n",
              "    <tr>\n",
              "      <th>178811</th>\n",
              "      <td>1181768</td>\n",
              "      <td>2019</td>\n",
              "      <td>2019-05-12</td>\n",
              "      <td>Rajiv Gandhi International Stadium</td>\n",
              "      <td>2</td>\n",
              "      <td>7.1</td>\n",
              "      <td>Chennai Super Kings</td>\n",
              "      <td>Mumbai Indians</td>\n",
              "      <td>SK Raina</td>\n",
              "      <td>SR Watson</td>\n",
              "      <td>RD Chahar</td>\n",
              "      <td>1</td>\n",
              "      <td>0</td>\n",
              "      <td>NaN</td>\n",
              "      <td>NaN</td>\n",
              "      <td>NaN</td>\n",
              "      <td>NaN</td>\n",
              "      <td>NaN</td>\n",
              "      <td>NaN</td>\n",
              "      <td>NaN</td>\n",
              "      <td>NaN</td>\n",
              "      <td>NaN</td>\n",
              "      <td>1</td>\n",
              "      <td>0</td>\n",
              "    </tr>\n",
              "    <tr>\n",
              "      <th>178812</th>\n",
              "      <td>1181768</td>\n",
              "      <td>2019</td>\n",
              "      <td>2019-05-12</td>\n",
              "      <td>Rajiv Gandhi International Stadium</td>\n",
              "      <td>2</td>\n",
              "      <td>6.7</td>\n",
              "      <td>Chennai Super Kings</td>\n",
              "      <td>Mumbai Indians</td>\n",
              "      <td>SR Watson</td>\n",
              "      <td>SK Raina</td>\n",
              "      <td>MJ McClenaghan</td>\n",
              "      <td>0</td>\n",
              "      <td>0</td>\n",
              "      <td>NaN</td>\n",
              "      <td>NaN</td>\n",
              "      <td>NaN</td>\n",
              "      <td>NaN</td>\n",
              "      <td>NaN</td>\n",
              "      <td>NaN</td>\n",
              "      <td>NaN</td>\n",
              "      <td>NaN</td>\n",
              "      <td>NaN</td>\n",
              "      <td>0</td>\n",
              "      <td>0</td>\n",
              "    </tr>\n",
              "    <tr>\n",
              "      <th>178813</th>\n",
              "      <td>1181768</td>\n",
              "      <td>2019</td>\n",
              "      <td>2019-05-12</td>\n",
              "      <td>Rajiv Gandhi International Stadium</td>\n",
              "      <td>2</td>\n",
              "      <td>5.6</td>\n",
              "      <td>Chennai Super Kings</td>\n",
              "      <td>Mumbai Indians</td>\n",
              "      <td>SR Watson</td>\n",
              "      <td>SK Raina</td>\n",
              "      <td>SL Malinga</td>\n",
              "      <td>4</td>\n",
              "      <td>0</td>\n",
              "      <td>NaN</td>\n",
              "      <td>NaN</td>\n",
              "      <td>NaN</td>\n",
              "      <td>NaN</td>\n",
              "      <td>NaN</td>\n",
              "      <td>NaN</td>\n",
              "      <td>NaN</td>\n",
              "      <td>NaN</td>\n",
              "      <td>NaN</td>\n",
              "      <td>4</td>\n",
              "      <td>0</td>\n",
              "    </tr>\n",
              "    <tr>\n",
              "      <th>178814</th>\n",
              "      <td>1181768</td>\n",
              "      <td>2019</td>\n",
              "      <td>2019-05-12</td>\n",
              "      <td>Rajiv Gandhi International Stadium</td>\n",
              "      <td>2</td>\n",
              "      <td>6.6</td>\n",
              "      <td>Chennai Super Kings</td>\n",
              "      <td>Mumbai Indians</td>\n",
              "      <td>SR Watson</td>\n",
              "      <td>SK Raina</td>\n",
              "      <td>MJ McClenaghan</td>\n",
              "      <td>0</td>\n",
              "      <td>0</td>\n",
              "      <td>NaN</td>\n",
              "      <td>NaN</td>\n",
              "      <td>NaN</td>\n",
              "      <td>NaN</td>\n",
              "      <td>NaN</td>\n",
              "      <td>NaN</td>\n",
              "      <td>NaN</td>\n",
              "      <td>NaN</td>\n",
              "      <td>NaN</td>\n",
              "      <td>0</td>\n",
              "      <td>0</td>\n",
              "    </tr>\n",
              "  </tbody>\n",
              "</table>\n",
              "</div>"
            ],
            "text/plain": [
              "        match_id  season  start_date                               venue  innings  ball         batting_team    bowling_team    striker non_striker          bowler  runs_off_bat  extras  wides  noballs  byes  legbyes  penalty wicket_type player_dismissed  other_wicket_type  other_player_dismissed  total_runs  isout\n",
              "178810  1181768   2019    2019-05-12  Rajiv Gandhi International Stadium  2        7.2   Chennai Super Kings  Mumbai Indians  SR Watson  SK Raina    RD Chahar       0             0      NaN    NaN      NaN   NaN      NaN       NaN         NaN             NaN                NaN                      0           0    \n",
              "178811  1181768   2019    2019-05-12  Rajiv Gandhi International Stadium  2        7.1   Chennai Super Kings  Mumbai Indians  SK Raina   SR Watson   RD Chahar       1             0      NaN    NaN      NaN   NaN      NaN       NaN         NaN             NaN                NaN                      1           0    \n",
              "178812  1181768   2019    2019-05-12  Rajiv Gandhi International Stadium  2        6.7   Chennai Super Kings  Mumbai Indians  SR Watson  SK Raina    MJ McClenaghan  0             0      NaN    NaN      NaN   NaN      NaN       NaN         NaN             NaN                NaN                      0           0    \n",
              "178813  1181768   2019    2019-05-12  Rajiv Gandhi International Stadium  2        5.6   Chennai Super Kings  Mumbai Indians  SR Watson  SK Raina    SL Malinga      4             0      NaN    NaN      NaN   NaN      NaN       NaN         NaN             NaN                NaN                      4           0    \n",
              "178814  1181768   2019    2019-05-12  Rajiv Gandhi International Stadium  2        6.6   Chennai Super Kings  Mumbai Indians  SR Watson  SK Raina    MJ McClenaghan  0             0      NaN    NaN      NaN   NaN      NaN       NaN         NaN             NaN                NaN                      0           0    "
            ]
          },
          "execution_count": 18,
          "metadata": {},
          "output_type": "execute_result"
        }
      ],
      "source": [
        "mdf.head(5)"
      ]
    },
    {
      "cell_type": "code",
      "execution_count": null,
      "id": "3f61e99a",
      "metadata": {
        "id": "3f61e99a"
      },
      "outputs": [],
      "source": [
        "mdf.reset_index(inplace = True, drop = True)"
      ]
    },
    {
      "cell_type": "code",
      "execution_count": null,
      "id": "d61eded7",
      "metadata": {
        "id": "d61eded7",
        "outputId": "ae91962a-76d8-45cf-c193-f64440e698a3"
      },
      "outputs": [
        {
          "data": {
            "text/html": [
              "<div>\n",
              "<style scoped>\n",
              "    .dataframe tbody tr th:only-of-type {\n",
              "        vertical-align: middle;\n",
              "    }\n",
              "\n",
              "    .dataframe tbody tr th {\n",
              "        vertical-align: top;\n",
              "    }\n",
              "\n",
              "    .dataframe thead th {\n",
              "        text-align: right;\n",
              "    }\n",
              "</style>\n",
              "<table border=\"1\" class=\"dataframe\">\n",
              "  <thead>\n",
              "    <tr style=\"text-align: right;\">\n",
              "      <th></th>\n",
              "      <th>match_id</th>\n",
              "      <th>season</th>\n",
              "      <th>start_date</th>\n",
              "      <th>venue</th>\n",
              "      <th>innings</th>\n",
              "      <th>ball</th>\n",
              "      <th>batting_team</th>\n",
              "      <th>bowling_team</th>\n",
              "      <th>striker</th>\n",
              "      <th>non_striker</th>\n",
              "      <th>bowler</th>\n",
              "      <th>runs_off_bat</th>\n",
              "      <th>extras</th>\n",
              "      <th>wides</th>\n",
              "      <th>noballs</th>\n",
              "      <th>byes</th>\n",
              "      <th>legbyes</th>\n",
              "      <th>penalty</th>\n",
              "      <th>wicket_type</th>\n",
              "      <th>player_dismissed</th>\n",
              "      <th>other_wicket_type</th>\n",
              "      <th>other_player_dismissed</th>\n",
              "      <th>total_runs</th>\n",
              "      <th>isout</th>\n",
              "    </tr>\n",
              "  </thead>\n",
              "  <tbody>\n",
              "    <tr>\n",
              "      <th>0</th>\n",
              "      <td>1181768</td>\n",
              "      <td>2019</td>\n",
              "      <td>2019-05-12</td>\n",
              "      <td>Rajiv Gandhi International Stadium</td>\n",
              "      <td>2</td>\n",
              "      <td>7.2</td>\n",
              "      <td>Chennai Super Kings</td>\n",
              "      <td>Mumbai Indians</td>\n",
              "      <td>SR Watson</td>\n",
              "      <td>SK Raina</td>\n",
              "      <td>RD Chahar</td>\n",
              "      <td>0</td>\n",
              "      <td>0</td>\n",
              "      <td>NaN</td>\n",
              "      <td>NaN</td>\n",
              "      <td>NaN</td>\n",
              "      <td>NaN</td>\n",
              "      <td>NaN</td>\n",
              "      <td>NaN</td>\n",
              "      <td>NaN</td>\n",
              "      <td>NaN</td>\n",
              "      <td>NaN</td>\n",
              "      <td>0</td>\n",
              "      <td>0</td>\n",
              "    </tr>\n",
              "    <tr>\n",
              "      <th>1</th>\n",
              "      <td>1181768</td>\n",
              "      <td>2019</td>\n",
              "      <td>2019-05-12</td>\n",
              "      <td>Rajiv Gandhi International Stadium</td>\n",
              "      <td>2</td>\n",
              "      <td>7.1</td>\n",
              "      <td>Chennai Super Kings</td>\n",
              "      <td>Mumbai Indians</td>\n",
              "      <td>SK Raina</td>\n",
              "      <td>SR Watson</td>\n",
              "      <td>RD Chahar</td>\n",
              "      <td>1</td>\n",
              "      <td>0</td>\n",
              "      <td>NaN</td>\n",
              "      <td>NaN</td>\n",
              "      <td>NaN</td>\n",
              "      <td>NaN</td>\n",
              "      <td>NaN</td>\n",
              "      <td>NaN</td>\n",
              "      <td>NaN</td>\n",
              "      <td>NaN</td>\n",
              "      <td>NaN</td>\n",
              "      <td>1</td>\n",
              "      <td>0</td>\n",
              "    </tr>\n",
              "    <tr>\n",
              "      <th>2</th>\n",
              "      <td>1181768</td>\n",
              "      <td>2019</td>\n",
              "      <td>2019-05-12</td>\n",
              "      <td>Rajiv Gandhi International Stadium</td>\n",
              "      <td>2</td>\n",
              "      <td>6.7</td>\n",
              "      <td>Chennai Super Kings</td>\n",
              "      <td>Mumbai Indians</td>\n",
              "      <td>SR Watson</td>\n",
              "      <td>SK Raina</td>\n",
              "      <td>MJ McClenaghan</td>\n",
              "      <td>0</td>\n",
              "      <td>0</td>\n",
              "      <td>NaN</td>\n",
              "      <td>NaN</td>\n",
              "      <td>NaN</td>\n",
              "      <td>NaN</td>\n",
              "      <td>NaN</td>\n",
              "      <td>NaN</td>\n",
              "      <td>NaN</td>\n",
              "      <td>NaN</td>\n",
              "      <td>NaN</td>\n",
              "      <td>0</td>\n",
              "      <td>0</td>\n",
              "    </tr>\n",
              "    <tr>\n",
              "      <th>3</th>\n",
              "      <td>1181768</td>\n",
              "      <td>2019</td>\n",
              "      <td>2019-05-12</td>\n",
              "      <td>Rajiv Gandhi International Stadium</td>\n",
              "      <td>2</td>\n",
              "      <td>5.6</td>\n",
              "      <td>Chennai Super Kings</td>\n",
              "      <td>Mumbai Indians</td>\n",
              "      <td>SR Watson</td>\n",
              "      <td>SK Raina</td>\n",
              "      <td>SL Malinga</td>\n",
              "      <td>4</td>\n",
              "      <td>0</td>\n",
              "      <td>NaN</td>\n",
              "      <td>NaN</td>\n",
              "      <td>NaN</td>\n",
              "      <td>NaN</td>\n",
              "      <td>NaN</td>\n",
              "      <td>NaN</td>\n",
              "      <td>NaN</td>\n",
              "      <td>NaN</td>\n",
              "      <td>NaN</td>\n",
              "      <td>4</td>\n",
              "      <td>0</td>\n",
              "    </tr>\n",
              "    <tr>\n",
              "      <th>4</th>\n",
              "      <td>1181768</td>\n",
              "      <td>2019</td>\n",
              "      <td>2019-05-12</td>\n",
              "      <td>Rajiv Gandhi International Stadium</td>\n",
              "      <td>2</td>\n",
              "      <td>6.6</td>\n",
              "      <td>Chennai Super Kings</td>\n",
              "      <td>Mumbai Indians</td>\n",
              "      <td>SR Watson</td>\n",
              "      <td>SK Raina</td>\n",
              "      <td>MJ McClenaghan</td>\n",
              "      <td>0</td>\n",
              "      <td>0</td>\n",
              "      <td>NaN</td>\n",
              "      <td>NaN</td>\n",
              "      <td>NaN</td>\n",
              "      <td>NaN</td>\n",
              "      <td>NaN</td>\n",
              "      <td>NaN</td>\n",
              "      <td>NaN</td>\n",
              "      <td>NaN</td>\n",
              "      <td>NaN</td>\n",
              "      <td>0</td>\n",
              "      <td>0</td>\n",
              "    </tr>\n",
              "  </tbody>\n",
              "</table>\n",
              "</div>"
            ],
            "text/plain": [
              "   match_id  season  start_date                               venue  innings  ball         batting_team    bowling_team    striker non_striker          bowler  runs_off_bat  extras  wides  noballs  byes  legbyes  penalty wicket_type player_dismissed  other_wicket_type  other_player_dismissed  total_runs  isout\n",
              "0  1181768   2019    2019-05-12  Rajiv Gandhi International Stadium  2        7.2   Chennai Super Kings  Mumbai Indians  SR Watson  SK Raina    RD Chahar       0             0      NaN    NaN      NaN   NaN      NaN       NaN         NaN             NaN                NaN                      0           0    \n",
              "1  1181768   2019    2019-05-12  Rajiv Gandhi International Stadium  2        7.1   Chennai Super Kings  Mumbai Indians  SK Raina   SR Watson   RD Chahar       1             0      NaN    NaN      NaN   NaN      NaN       NaN         NaN             NaN                NaN                      1           0    \n",
              "2  1181768   2019    2019-05-12  Rajiv Gandhi International Stadium  2        6.7   Chennai Super Kings  Mumbai Indians  SR Watson  SK Raina    MJ McClenaghan  0             0      NaN    NaN      NaN   NaN      NaN       NaN         NaN             NaN                NaN                      0           0    \n",
              "3  1181768   2019    2019-05-12  Rajiv Gandhi International Stadium  2        5.6   Chennai Super Kings  Mumbai Indians  SR Watson  SK Raina    SL Malinga      4             0      NaN    NaN      NaN   NaN      NaN       NaN         NaN             NaN                NaN                      4           0    \n",
              "4  1181768   2019    2019-05-12  Rajiv Gandhi International Stadium  2        6.6   Chennai Super Kings  Mumbai Indians  SR Watson  SK Raina    MJ McClenaghan  0             0      NaN    NaN      NaN   NaN      NaN       NaN         NaN             NaN                NaN                      0           0    "
            ]
          },
          "execution_count": 20,
          "metadata": {},
          "output_type": "execute_result"
        }
      ],
      "source": [
        "mdf.head()"
      ]
    },
    {
      "cell_type": "code",
      "execution_count": null,
      "id": "2a5bdcc3",
      "metadata": {
        "id": "2a5bdcc3"
      },
      "outputs": [],
      "source": [
        "df1 = mdf[mdf.innings ==1]\n",
        "df2 = mdf[mdf.innings ==2]"
      ]
    },
    {
      "cell_type": "markdown",
      "id": "ad046974",
      "metadata": {
        "id": "ad046974"
      },
      "source": [
        "### Outcomes:"
      ]
    },
    {
      "cell_type": "code",
      "execution_count": null,
      "id": "8fce8efd",
      "metadata": {
        "id": "8fce8efd"
      },
      "outputs": [],
      "source": [
        "# 0,1,2,3,4,5,6,7, 'W', 'extras'\n",
        "outcomes = [0,1,2,3,4,6,'w']"
      ]
    },
    {
      "cell_type": "code",
      "execution_count": null,
      "id": "61a1b690",
      "metadata": {
        "id": "61a1b690",
        "outputId": "f468890f-d4ea-4e61-9fd5-a985d46883d6"
      },
      "outputs": [
        {
          "data": {
            "text/plain": [
              "1    10347\n",
              "0    9050 \n",
              "4    2932 \n",
              "2    1575 \n",
              "6    1270 \n",
              "3    92   \n",
              "5    47   \n",
              "7    7    \n",
              "Name: total_runs, dtype: int64"
            ]
          },
          "execution_count": 23,
          "metadata": {},
          "output_type": "execute_result"
        }
      ],
      "source": [
        "ipl_df[ipl_df.batting_team == t1].total_runs.value_counts()"
      ]
    },
    {
      "cell_type": "code",
      "execution_count": null,
      "id": "f5374e27",
      "metadata": {
        "id": "f5374e27",
        "outputId": "62bbef18-24cf-4184-bde7-0cdf2107eb26"
      },
      "outputs": [
        {
          "data": {
            "text/plain": [
              "1237"
            ]
          },
          "execution_count": 24,
          "metadata": {},
          "output_type": "execute_result"
        }
      ],
      "source": [
        "ipl_df[ipl_df.batting_team == t1].isout.sum()"
      ]
    },
    {
      "cell_type": "code",
      "execution_count": null,
      "id": "554459b5",
      "metadata": {
        "id": "554459b5"
      },
      "outputs": [],
      "source": [
        "t1_outcomes_count = ipl_df[ipl_df.batting_team == t1].total_runs.value_counts()\n",
        "t2_outcomes_count = ipl_df[ipl_df.batting_team == t2].total_runs.value_counts()"
      ]
    },
    {
      "cell_type": "code",
      "execution_count": null,
      "id": "9f514084",
      "metadata": {
        "id": "9f514084"
      },
      "outputs": [],
      "source": [
        "t1_outs = ipl_df[ipl_df.batting_team == t1].isout.sum()\n",
        "t2_outs = ipl_df[ipl_df.batting_team == t2].isout.sum()"
      ]
    },
    {
      "cell_type": "code",
      "execution_count": null,
      "id": "30b265a4",
      "metadata": {
        "id": "30b265a4"
      },
      "outputs": [],
      "source": [
        "t1_outcomes = []\n",
        "t2_outcomes = []\n",
        "\n",
        "\n",
        "for outcome in outcomes:\n",
        "    if outcome !='w':\n",
        "        t1_outcomes.append(t1_outcomes_count[outcome])\n",
        "        t2_outcomes.append(t2_outcomes_count[outcome])\n",
        "    else:\n",
        "        t1_outcomes.append(t1_outs)\n",
        "        t2_outcomes.append(t2_outs)\n",
        ""
      ]
    },
    {
      "cell_type": "code",
      "execution_count": null,
      "id": "95b13ff5",
      "metadata": {
        "id": "95b13ff5",
        "outputId": "b837ecc3-baff-4f54-8d42-4586f01c5ffc"
      },
      "outputs": [
        {
          "data": {
            "text/plain": [
              "([9050, 10347, 1575, 92, 2932, 1270, 1237],\n",
              " [7671, 9326, 1536, 90, 2520, 1104, 952])"
            ]
          },
          "execution_count": 28,
          "metadata": {},
          "output_type": "execute_result"
        }
      ],
      "source": [
        "t1_outcomes, t2_outcomes"
      ]
    },
    {
      "cell_type": "code",
      "execution_count": null,
      "id": "6e3fc586",
      "metadata": {
        "id": "6e3fc586"
      },
      "outputs": [],
      "source": [
        "t1_pb_outcomes = [i/sum(t1_outcomes) for i in t1_outcomes]\n",
        "t2_pb_outcomes = [i/sum(t2_outcomes) for i in t2_outcomes]"
      ]
    },
    {
      "cell_type": "code",
      "execution_count": null,
      "id": "b23878c0",
      "metadata": {
        "id": "b23878c0",
        "outputId": "d9901304-6c01-4688-cf06-e0effd3315c0"
      },
      "outputs": [
        {
          "data": {
            "text/plain": [
              "[0.3414707768931819,\n",
              " 0.3904086329849451,\n",
              " 0.05942723465268083,\n",
              " 0.0034713051352677055,\n",
              " 0.11062898539787948,\n",
              " 0.04791910349771724,\n",
              " 0.046673961438327735]"
            ]
          },
          "execution_count": 30,
          "metadata": {},
          "output_type": "execute_result"
        }
      ],
      "source": [
        "t1_pb_outcomes"
      ]
    },
    {
      "cell_type": "code",
      "execution_count": null,
      "id": "d6268999",
      "metadata": {
        "id": "d6268999"
      },
      "outputs": [],
      "source": [
        "# (0 --> 1)\n",
        "# ex:\n",
        "# dot - 34%\n",
        "# ones - 34% + 39% = 73%"
      ]
    },
    {
      "cell_type": "code",
      "execution_count": null,
      "id": "392be44c",
      "metadata": {
        "id": "392be44c"
      },
      "outputs": [],
      "source": [
        "t1_pb_ls = np.cumsum(t1_pb_outcomes)\n",
        "t2_pb_ls = np.cumsum(t2_pb_outcomes)"
      ]
    },
    {
      "cell_type": "code",
      "execution_count": null,
      "id": "1ecf8a07",
      "metadata": {
        "id": "1ecf8a07",
        "outputId": "1185a049-5658-4a1c-d082-28f9d8c535e6"
      },
      "outputs": [
        {
          "data": {
            "text/plain": [
              "(array([0.34147078, 0.73187941, 0.79130664, 0.79477795, 0.90540694,\n",
              "        0.95332604, 1.        ]),\n",
              " array([0.3306608 , 0.73266089, 0.79887064, 0.80275012, 0.91137549,\n",
              "        0.95896375, 1.        ]))"
            ]
          },
          "execution_count": 33,
          "metadata": {},
          "output_type": "execute_result"
        }
      ],
      "source": [
        "t1_pb_ls, t2_pb_ls"
      ]
    },
    {
      "cell_type": "markdown",
      "id": "33ce1d5b",
      "metadata": {
        "id": "33ce1d5b"
      },
      "source": [
        "### Fetch probability values:"
      ]
    },
    {
      "cell_type": "code",
      "execution_count": null,
      "id": "c1b8f940",
      "metadata": {
        "id": "c1b8f940"
      },
      "outputs": [],
      "source": [
        "# MI = [0.34147078, 0.73187941, 0.79130664, 0.79477795, 0.90540694,0.95332604, 1]\n",
        "#CSK = [0.3306608 , 0.73266089, 0.79887064, 0.80275012, 0.91137549, 0.95896375, 1]"
      ]
    },
    {
      "cell_type": "code",
      "execution_count": null,
      "id": "7e99cad4",
      "metadata": {
        "id": "7e99cad4"
      },
      "outputs": [],
      "source": [
        "def get_pbvalues(teamName):\n",
        "    if teamName == 'MI':\n",
        "        p_0 = 0.34147078\n",
        "        p_1 = 0.73187941\n",
        "        p_2 = 0.79130664\n",
        "        p_3 = 0.79477795\n",
        "        p_4 = 0.90540694\n",
        "        p_6 = 0.95332604\n",
        "        p_w = 1\n",
        "\n",
        "    elif teamName == 'CSK':\n",
        "        p_0 = 0.3306608\n",
        "        p_1 = 0.73266089\n",
        "        p_2 = 0.79887064\n",
        "        p_3 = 0.80275012\n",
        "        p_4 = 0.91137549\n",
        "        p_6 = 0.95896375\n",
        "        p_w = 1\n",
        "\n",
        "    return p_0,p_1,p_2,p_3,p_4,p_6,p_w"
      ]
    },
    {
      "cell_type": "markdown",
      "id": "6886ab60",
      "metadata": {
        "id": "6886ab60"
      },
      "source": [
        "### Runs prediction Model:"
      ]
    },
    {
      "cell_type": "code",
      "execution_count": null,
      "id": "6061be6e",
      "metadata": {
        "id": "6061be6e"
      },
      "outputs": [],
      "source": [
        "def predict_runs(target, curr_score, curr_wickets, curr_overs):\n",
        "\n",
        "    #pb values of both teams\n",
        "    i1p_0, i1p_1, i1p_2, i1p_3, i1p_4, i1p_6, i1p_w = get_pbvalues('MI')\n",
        "    i2p_0, i2p_1, i2p_2, i2p_3, i2p_4, i2p_6, i2p_w = get_pbvalues('CSK')\n",
        "\n",
        "    pred_runs = curr_score\n",
        "    pred_wks = curr_wickets\n",
        "    leftover_balls = 120- curr_overs*6\n",
        "\n",
        "    for i in range(leftover_balls):\n",
        "        r_value = np.random.random()\n",
        "\n",
        "        if r_value <= i2p_0:\n",
        "            pred_runs += 0\n",
        "        elif r_value <= i2p_1:\n",
        "            pred_runs += 1\n",
        "        elif r_value <= i2p_2:\n",
        "            pred_runs += 2\n",
        "        elif r_value <= i2p_3:\n",
        "            pred_runs += 3\n",
        "        elif r_value <= i2p_4:\n",
        "            pred_runs += 4\n",
        "        elif r_value <= i2p_6:\n",
        "            pred_runs += 6\n",
        "        else:\n",
        "            pred_runs += 0\n",
        "            pred_wks += 1\n",
        "\n",
        "            if pred_wks == 10:\n",
        "                break\n",
        "        if pred_runs > target:\n",
        "            break\n",
        "\n",
        "            #print('pred_runs:', pred_runs)\n",
        "           #print('pred_wks:', pred_wks)\n",
        "\n",
        "    return pred_runs\n",
        "\n"
      ]
    },
    {
      "cell_type": "code",
      "execution_count": null,
      "id": "9426e5c7",
      "metadata": {
        "scrolled": true,
        "id": "9426e5c7",
        "outputId": "6eb0cfd0-d130-42da-9939-b8c8a57ad60c"
      },
      "outputs": [
        {
          "data": {
            "text/plain": [
              "150"
            ]
          },
          "execution_count": 41,
          "metadata": {},
          "output_type": "execute_result"
        }
      ],
      "source": [
        "# predict_runs(target, curr_score, curr_wickets, curr_overs)\n",
        "predict_runs(149, 0, 0, 0)"
      ]
    },
    {
      "cell_type": "markdown",
      "id": "ef04af91",
      "metadata": {
        "id": "ef04af91"
      },
      "source": [
        "### Winner function:"
      ]
    },
    {
      "cell_type": "code",
      "execution_count": null,
      "id": "be6acc25",
      "metadata": {
        "id": "be6acc25"
      },
      "outputs": [],
      "source": [
        "def get_win(pred_runs, target):\n",
        "    if pred_runs > target:\n",
        "        return 'win'\n",
        "    elif pred_runs == target:\n",
        "        return 'tie'\n",
        "    else:\n",
        "        return 'loss'\n",
        ""
      ]
    },
    {
      "cell_type": "code",
      "execution_count": null,
      "id": "668e1adc",
      "metadata": {
        "id": "668e1adc"
      },
      "outputs": [],
      "source": [
        "#runs, wickets, overs,\n",
        "# win, 1st ing score\n",
        "\n",
        "#MI = 149/8\n",
        "\n",
        "target = 150\n",
        "\n",
        "curr_score = 72\n",
        "curr_wickets = 2\n",
        "curr_overs = 10\n",
        "\n",
        "\n",
        "iter_count = 100\n",
        "\n",
        "runs_ls = []\n",
        "results_ls = []\n",
        "\n",
        "win_count = 0\n",
        "tie_count = 0\n",
        "loss_count = 0\n",
        "\n",
        "for i in range(iter_count):\n",
        "    pred_runs = predict_runs(target, curr_score, curr_wickets, curr_overs)\n",
        "    runs_ls.append(pred_runs)\n",
        "    result_pred = get_win(pred_runs, target)\n",
        "    results_ls.append(result_pred)\n",
        "\n",
        "    if result_pred == 'win':\n",
        "        win_count += 1\n",
        "    elif result_pred == 'tie':\n",
        "        tie_count += 1\n",
        "    else:\n",
        "        loss_count +=1"
      ]
    },
    {
      "cell_type": "code",
      "execution_count": null,
      "id": "e8632b04",
      "metadata": {
        "scrolled": true,
        "id": "e8632b04",
        "outputId": "45defbc4-b058-4413-b903-55ce7a95f5fd"
      },
      "outputs": [
        {
          "data": {
            "text/plain": [
              "(38, 3, 59)"
            ]
          },
          "execution_count": 58,
          "metadata": {},
          "output_type": "execute_result"
        }
      ],
      "source": [
        "win_count, tie_count, loss_count"
      ]
    },
    {
      "cell_type": "markdown",
      "id": "6efa7074",
      "metadata": {
        "id": "6efa7074"
      },
      "source": [
        "### Find out Runs at a required stage:"
      ]
    },
    {
      "cell_type": "code",
      "execution_count": null,
      "id": "f86485ba",
      "metadata": {
        "id": "f86485ba"
      },
      "outputs": [],
      "source": [
        "# find out runs:\n",
        "def find_runs(curr_score, target, curr_wickets, at_overs):\n",
        "    runs_ls = []\n",
        "    results_ls = []\n",
        "\n",
        "    req_runs = []\n",
        "    win_ls = []\n",
        "\n",
        "    for i in range(curr_score, target + 1):\n",
        "        win_count = 0\n",
        "        tie_count = 0\n",
        "        loss_count = 0\n",
        "\n",
        "        for j in range(100):\n",
        "            pred_runs = predict_runs(target, i, curr_wickets, at_overs)\n",
        "            runs_ls.append(pred_runs)\n",
        "            result_pred = get_win(pred_runs, target)\n",
        "            results_ls.append(result_pred)\n",
        "\n",
        "            if result_pred == 'win':\n",
        "                win_count += 1\n",
        "            elif result_pred == 'tie':\n",
        "                tie_count += 1\n",
        "            else:\n",
        "                loss_count +=1\n",
        "\n",
        "            win_ls.append(win_count)\n",
        "            req_runs.append(i)\n",
        "            #print('runs', i, 'win%:', win_count)\n",
        "\n",
        "    required_runs = curr_score\n",
        "    for i in range(len(req_runs)):\n",
        "        if win_ls[i] >= 50:\n",
        "            required_runs = req_runs[i]\n",
        "            #print('Runs to be:', req_runs[i])\n",
        "            break\n",
        "\n",
        "    return required_runs"
      ]
    },
    {
      "cell_type": "code",
      "execution_count": null,
      "id": "fe3a4141",
      "metadata": {
        "id": "fe3a4141",
        "outputId": "9880f5e6-e0d1-406a-861a-93e24b78811c"
      },
      "outputs": [
        {
          "data": {
            "text/plain": [
              "73"
            ]
          },
          "execution_count": 78,
          "metadata": {},
          "output_type": "execute_result"
        }
      ],
      "source": [
        "#find_runs(curr_score, target, curr_wickets, at_overs)\n",
        "find_runs(72, 150, 2, 10 )"
      ]
    },
    {
      "cell_type": "markdown",
      "id": "a3b1fac6",
      "metadata": {
        "id": "a3b1fac6"
      },
      "source": [
        "### Find out Wickets they can afford to lose:"
      ]
    },
    {
      "cell_type": "code",
      "execution_count": null,
      "id": "020a6f54",
      "metadata": {
        "id": "020a6f54"
      },
      "outputs": [],
      "source": [
        "def find_wickets(curr_score, target, curr_wickets, at_overs):\n",
        "\n",
        "#find_runs(curr_score, target, curr_wickets, at_overs)\n",
        "    req_runs = find_runs(curr_score, target, curr_wickets, at_overs)\n",
        "\n",
        "    runs_ls = []\n",
        "    results_ls = []\n",
        "\n",
        "    req_wks = []\n",
        "    win_ls = []\n",
        "\n",
        "    for i in range(curr_wickets, 10):\n",
        "        win_count = 0\n",
        "        tie_count = 0\n",
        "        loss_count = 0\n",
        "\n",
        "        for j in range(100):\n",
        "#        pred_runs = predict_runs(target, i, curr_wickets, at_overs)\n",
        "            pred_runs = predict_runs(target, curr_score, i, at_overs)\n",
        "            runs_ls.append(pred_runs)\n",
        "            result_pred = get_win(pred_runs, target)\n",
        "            results_ls.append(result_pred)\n",
        "\n",
        "            if result_pred == 'win':\n",
        "                win_count += 1\n",
        "            elif result_pred == 'tie':\n",
        "                tie_count += 1\n",
        "            else:\n",
        "                loss_count +=1\n",
        "\n",
        "        win_ls.append(win_count)\n",
        "        req_wks.append(i)\n",
        "        print('wickets', i, 'win%:', win_count)\n",
        "\n",
        "    req_wicket_value = curr_wickets\n",
        "\n",
        "    for i in range(len(req_wks)):\n",
        "        if (win_ls[i] < 45) :\n",
        "            req_wicket_value = req_wks[i]\n",
        "            break\n",
        "\n",
        "    return req_wicket_value"
      ]
    },
    {
      "cell_type": "code",
      "execution_count": null,
      "id": "bea68bfe",
      "metadata": {
        "id": "bea68bfe",
        "outputId": "bbfa51a1-5bab-4548-efc3-fe74dc7d916f"
      },
      "outputs": [
        {
          "name": "stdout",
          "output_type": "stream",
          "text": [
            "wickets 2 win%: 37\n",
            "wickets 3 win%: 45\n",
            "wickets 4 win%: 43\n",
            "wickets 5 win%: 38\n",
            "wickets 6 win%: 32\n",
            "wickets 7 win%: 30\n",
            "wickets 8 win%: 19\n",
            "wickets 9 win%: 8\n"
          ]
        },
        {
          "data": {
            "text/plain": [
              "2"
            ]
          },
          "execution_count": 73,
          "metadata": {},
          "output_type": "execute_result"
        }
      ],
      "source": [
        "#wickets they can afford to lose:\n",
        "\n",
        "# find_wickets(curr_score, target, curr_wickets, at_overs)\n",
        "find_wickets(72, 150, 2, 10)"
      ]
    },
    {
      "cell_type": "markdown",
      "id": "05b300d6",
      "metadata": {
        "id": "05b300d6"
      },
      "source": [
        "### Function: Interactive chart"
      ]
    },
    {
      "cell_type": "code",
      "execution_count": null,
      "id": "f61229fc",
      "metadata": {
        "id": "f61229fc"
      },
      "outputs": [],
      "source": [
        "%matplotlib inline\n",
        "from ipywidgets import interactive\n",
        "import ipywidgets as widgets\n",
        "import matplotlib.pyplot as plt\n",
        "import numpy as np\n",
        "\n",
        "def find_runs_wickets(curr_wks, at_overs, target_score):\n",
        "    plt.figure(figsize = (16, 4))\n",
        "    # x = np.linspace(-10, 10, num=1000)\n",
        "    x = np.array(list(range(21)))\n",
        "    req_value = find_runs(72, target_score, curr_wks, at_overs)\n",
        "    req_wk_value = find_wickets(72, target_score, curr_wks, at_overs)\n",
        "\n",
        "    if at_overs == 10:\n",
        "        req_value = 72\n",
        "        req_wk_value = 2\n",
        "\n",
        "\n",
        "    # print(req_value)\n",
        "    y = np.array([req_value for i in range(21)])\n",
        "\n",
        "    # plt.plot(x, current_overs * x + target_score)\n",
        "    # plt.plot(x, y)\n",
        "    plt.scatter(at_overs, req_value, s = 1200, color = 'red')\n",
        "    plt.axhline(target_score, ls = '--', color = 'blue')\n",
        "    plt.text( 1, target_score + 10, 'Target Score :' + str(target_score) , color = 'darkblue', fontsize = 13)\n",
        "    plt.text( at_overs, req_value, str(req_value) + '/' + str(req_wk_value), color = 'white', fontsize = 12,  horizontalalignment='center', verticalalignment='center')\n",
        "    plt.text(at_overs, req_value - 30, 'CSK has to be at ' + str(req_value) + '/' +  str(req_wk_value) + ' after ' + str(at_overs) + ' ov', horizontalalignment='center')\n",
        "    plt.ylim(50, target_score + 50)\n",
        "    plt.xticks(x)\n",
        "    plt.title('Where should CSK be?', fontsize = 20)\n",
        "    plt.xlabel('Overs')\n",
        "    plt.ylabel('Score')\n",
        "    plt.show()\n",
        "\n",
        "# x=widgets.IntSlider(min=-10, max=30, step=1, value=10)\n",
        "\n",
        "# find_wickets(curr_score, target, curr_wickets, at_overs)\n",
        "# find_wickets(87, 150, 1, 14)\n",
        ""
      ]
    },
    {
      "cell_type": "markdown",
      "id": "b8bf419e",
      "metadata": {
        "id": "b8bf419e"
      },
      "source": [
        "### Interactive Visualization"
      ]
    },
    {
      "cell_type": "code",
      "execution_count": null,
      "id": "d03d8fa4",
      "metadata": {
        "scrolled": false,
        "id": "d03d8fa4",
        "outputId": "8d007306-280d-4109-c7dc-19c876fe390f",
        "colab": {
          "referenced_widgets": [
            "025678538d9544959f7bf8aca4570fef"
          ]
        }
      },
      "outputs": [
        {
          "name": "stdout",
          "output_type": "stream",
          "text": [
            "current_score = CSK: 72/2 (10 overs)\n",
            "\n"
          ]
        },
        {
          "data": {
            "application/vnd.jupyter.widget-view+json": {
              "model_id": "025678538d9544959f7bf8aca4570fef",
              "version_major": 2,
              "version_minor": 0
            },
            "text/plain": [
              "interactive(children=(IntSlider(value=2, description='curr_wks', max=10, min=2), IntSlider(value=10, descripti…"
            ]
          },
          "metadata": {},
          "output_type": "display_data"
        }
      ],
      "source": [
        "print('current_score = CSK: 72/2 (10 overs)')\n",
        "print('')\n",
        "\n",
        "interactive_plot = interactive(find_runs_wickets, curr_wks = widgets.IntSlider(min=2, max = 10, step=1, value=1), at_overs=widgets.IntSlider(min=10, max=20, step=1, value=10), target_score= widgets.IntSlider(min=0, max=250, step=1, value=150))\n",
        "output = interactive_plot.children[-1]\n",
        "output.layout.height = '450px'\n",
        "interactive_plot"
      ]
    }
  ],
  "metadata": {
    "kernelspec": {
      "display_name": "Python 3 (ipykernel)",
      "language": "python",
      "name": "python3"
    },
    "language_info": {
      "codemirror_mode": {
        "name": "ipython",
        "version": 3
      },
      "file_extension": ".py",
      "mimetype": "text/x-python",
      "name": "python",
      "nbconvert_exporter": "python",
      "pygments_lexer": "ipython3",
      "version": "3.9.7"
    },
    "colab": {
      "provenance": [],
      "include_colab_link": true
    }
  },
  "nbformat": 4,
  "nbformat_minor": 5
}