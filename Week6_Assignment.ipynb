{
  "cells": [
    {
      "cell_type": "markdown",
      "metadata": {
        "id": "view-in-github",
        "colab_type": "text"
      },
      "source": [
        "<a href=\"https://colab.research.google.com/github/spaceo521/Data-Science-Projects/blob/main/Week6_Assignment.ipynb\" target=\"_parent\"><img src=\"https://colab.research.google.com/assets/colab-badge.svg\" alt=\"Open In Colab\"/></a>"
      ]
    },
    {
      "cell_type": "code",
      "execution_count": null,
      "id": "d308fb7d",
      "metadata": {
        "id": "d308fb7d"
      },
      "outputs": [],
      "source": [
        "import warnings\n",
        "warnings.filterwarnings('ignore')\n",
        "import pandas as pd\n",
        "import numpy as np\n",
        "import matplotlib.pyplot as plt\n",
        "import seaborn as sns\n",
        "\n",
        "from sklearn.model_selection import train_test_split\n",
        "from sklearn.linear_model import LinearRegression\n",
        "import pickle\n",
        "from sklearn.metrics import mean_absolute_error\n",
        "\n",
        "pd.set_option('display.max_rows',None)\n",
        "pd.set_option('display.max_columns',None)\n",
        "pd.set_option('display.expand_frame_repr',False)\n",
        "pd.set_option('max_colwidth',-1)"
      ]
    },
    {
      "cell_type": "code",
      "execution_count": null,
      "id": "460fca88",
      "metadata": {
        "id": "460fca88"
      },
      "outputs": [],
      "source": []
    },
    {
      "cell_type": "code",
      "execution_count": null,
      "id": "afa56ddb",
      "metadata": {
        "id": "afa56ddb"
      },
      "outputs": [],
      "source": [
        "df = pd.read_csv('T20I_ball_by_ball_updated.csv')\n",
        "\n",
        "df = df.sort_values(['match_id','innings','ball'],ascending=[True,True,True]).reset_index(drop=True)\n",
        "\n",
        "df['overs'] = df['ball']\n",
        "\n",
        "df['ball'] = df['ball'].astype(str)\n",
        "\n",
        "df['over'] = df['ball'].str[0:-1]\n",
        "\n",
        "df['over'] = df['over'].str.replace('.','')\n",
        "\n",
        "df['ball'] = df['ball'].str[-1:]\n",
        "\n",
        "df['total_runs'] = df['runs_off_bat'] + df['extras']\n",
        "\n",
        "df = df[['match_id','innings','batting_team','bowling_team','venue','striker','overs','over','ball','total_runs','player_dismissed']]\n",
        "\n",
        "df = df.rename(columns={'match_id': 'id'})\n",
        "\n",
        "main_teams = ['Australia', 'New Zealand', 'England', 'South Africa',\n",
        "       'West Indies', 'Sri Lanka', 'Pakistan', 'India',\n",
        "       'Bangladesh']\n",
        "\n",
        "df = df[(df.batting_team.isin(main_teams)) & (df.bowling_team.isin(main_teams))]\n",
        "\n",
        "df = df.replace(np.nan,0)\n",
        "\n",
        "df['inn_total'] = df.groupby(['id','innings'])['total_runs'].transform('sum')\n",
        "\n",
        "df['current_score'] = df.groupby(['id','innings'])['total_runs'].apply(lambda x : x.cumsum())\n",
        "\n",
        "df['player_dismissed'] = np.where(df['player_dismissed']==0,0,1)\n",
        "\n",
        "df['current_wickets'] = df.groupby(['id','innings'])['player_dismissed'].apply(lambda x : x.cumsum())\n",
        "\n",
        "temp = df.groupby(['id','innings'])['total_runs'].rolling(min_periods=1,window=30).sum().reset_index()\n",
        "\n",
        "df['runs_last30balls'] = temp['total_runs'].to_list()\n",
        "\n",
        "temp = df.groupby(['id','innings'])['player_dismissed'].rolling(min_periods=1,window=30).sum().reset_index()\n",
        "\n",
        "df['wickets_last30balls'] = temp['player_dismissed'].to_list()\n",
        "\n",
        "df['dots_last30balls'] = df['total_runs']\n",
        "\n",
        "df['dots_last30balls'] = np.where(df['dots_last30balls']==0,1,0)\n",
        "\n",
        "temp = df.groupby(['id','innings'])['dots_last30balls'].rolling(min_periods=1,window=30).sum().reset_index()\n",
        "\n",
        "df['dots_last30balls'] = temp['dots_last30balls'].to_list()\n",
        "\n",
        "df['boundaries_last30balls'] = df['total_runs']\n",
        "\n",
        "df['boundaries_last30balls'] = np.where(df['boundaries_last30balls']>3,1,0)\n",
        "\n",
        "temp = df.groupby(['id','innings'])['boundaries_last30balls'].rolling(min_periods=1,window=30).sum().reset_index()\n",
        "\n",
        "df['boundaries_last30balls'] = temp['boundaries_last30balls'].to_list()\n",
        "\n",
        "df = df[['id','innings','batting_team','bowling_team','venue','striker','overs','over','ball','total_runs','player_dismissed','current_score','current_wickets','runs_last30balls','wickets_last30balls','dots_last30balls','boundaries_last30balls','inn_total']]\n",
        "\n",
        "df['inn_wickets'] = df.groupby(['id','innings'])['player_dismissed'].transform('sum')\n",
        "\n",
        "# Added 2 new features 1) Run rate 2) Run rate in last 30 balls\n",
        "\n",
        "df['run_rate'] = df.apply(lambda x : x['current_score'] / x['overs'], axis = 1)\n",
        "\n",
        "df['runrate_last30balls'] = df.apply(lambda x : x['runs_last30balls'] / x['overs'], axis = 1)"
      ]
    },
    {
      "cell_type": "code",
      "execution_count": null,
      "id": "26aab1f5",
      "metadata": {
        "id": "26aab1f5"
      },
      "outputs": [],
      "source": [
        "convert_dict = {'runs_last30balls' : int,\n",
        "                'wickets_last30balls': int,\n",
        "                'dots_last30balls' : int,\n",
        "                'boundaries_last30balls' : int\n",
        "               }\n",
        "\n",
        "df = df.astype(convert_dict)"
      ]
    },
    {
      "cell_type": "code",
      "execution_count": null,
      "id": "f798c7dc",
      "metadata": {
        "id": "f798c7dc"
      },
      "outputs": [],
      "source": [
        "df = pd.get_dummies(data = df, columns = ['batting_team', 'bowling_team'])"
      ]
    },
    {
      "cell_type": "code",
      "execution_count": null,
      "id": "f42be9f8",
      "metadata": {
        "id": "f42be9f8",
        "outputId": "4076ffbb-3b0c-49a0-b34b-93f2736172aa"
      },
      "outputs": [
        {
          "data": {
            "text/plain": [
              "Index(['id', 'innings', 'venue', 'striker', 'overs', 'over', 'ball',\n",
              "       'total_runs', 'player_dismissed', 'current_score', 'current_wickets',\n",
              "       'runs_last30balls', 'wickets_last30balls', 'dots_last30balls',\n",
              "       'boundaries_last30balls', 'inn_total', 'inn_wickets', 'run_rate',\n",
              "       'runrate_last30balls', 'batting_team_Australia',\n",
              "       'batting_team_Bangladesh', 'batting_team_England', 'batting_team_India',\n",
              "       'batting_team_New Zealand', 'batting_team_Pakistan',\n",
              "       'batting_team_South Africa', 'batting_team_Sri Lanka',\n",
              "       'batting_team_West Indies', 'bowling_team_Australia',\n",
              "       'bowling_team_Bangladesh', 'bowling_team_England', 'bowling_team_India',\n",
              "       'bowling_team_New Zealand', 'bowling_team_Pakistan',\n",
              "       'bowling_team_South Africa', 'bowling_team_Sri Lanka',\n",
              "       'bowling_team_West Indies'],\n",
              "      dtype='object')"
            ]
          },
          "execution_count": 5,
          "metadata": {},
          "output_type": "execute_result"
        }
      ],
      "source": [
        "df.columns"
      ]
    },
    {
      "cell_type": "code",
      "execution_count": null,
      "id": "09a92378",
      "metadata": {
        "id": "09a92378"
      },
      "outputs": [],
      "source": [
        "df = df[['id','batting_team_Australia',\n",
        "       'batting_team_Bangladesh', 'batting_team_England', 'batting_team_India',\n",
        "       'batting_team_New Zealand', 'batting_team_Pakistan',\n",
        "       'batting_team_South Africa', 'batting_team_Sri Lanka',\n",
        "       'batting_team_West Indies', 'bowling_team_Australia',\n",
        "       'bowling_team_Bangladesh', 'bowling_team_England', 'bowling_team_India',\n",
        "       'bowling_team_New Zealand', 'bowling_team_Pakistan',\n",
        "       'bowling_team_South Africa', 'bowling_team_Sri Lanka',\n",
        "       'bowling_team_West Indies', 'overs', 'current_score', 'current_wickets',\n",
        "       'runs_last30balls', 'wickets_last30balls', 'dots_last30balls',\n",
        "       'boundaries_last30balls', 'inn_total', 'run_rate', 'runrate_last30balls']]"
      ]
    },
    {
      "cell_type": "code",
      "execution_count": null,
      "id": "03d4cfb1",
      "metadata": {
        "id": "03d4cfb1"
      },
      "outputs": [],
      "source": [
        "# Train Test Split"
      ]
    },
    {
      "cell_type": "code",
      "execution_count": null,
      "id": "95b988c7",
      "metadata": {
        "id": "95b988c7"
      },
      "outputs": [],
      "source": [
        "X = df.drop(labels = ['inn_total', 'id'], axis=1)\n",
        "y = df['inn_total'].values"
      ]
    },
    {
      "cell_type": "code",
      "execution_count": null,
      "id": "1ea004a2",
      "metadata": {
        "id": "1ea004a2",
        "outputId": "c6bb5676-8916-443b-d507-5ab325873d6e"
      },
      "outputs": [
        {
          "data": {
            "text/plain": [
              "array([179, 179, 179, ...,  71,  71,  71], dtype=int64)"
            ]
          },
          "execution_count": 9,
          "metadata": {},
          "output_type": "execute_result"
        }
      ],
      "source": [
        "y"
      ]
    },
    {
      "cell_type": "code",
      "execution_count": null,
      "id": "7e2fe5fe",
      "metadata": {
        "id": "7e2fe5fe",
        "outputId": "a2887254-a42b-4386-e334-25b878f97d49"
      },
      "outputs": [
        {
          "data": {
            "text/html": [
              "<div>\n",
              "<style scoped>\n",
              "    .dataframe tbody tr th:only-of-type {\n",
              "        vertical-align: middle;\n",
              "    }\n",
              "\n",
              "    .dataframe tbody tr th {\n",
              "        vertical-align: top;\n",
              "    }\n",
              "\n",
              "    .dataframe thead th {\n",
              "        text-align: right;\n",
              "    }\n",
              "</style>\n",
              "<table border=\"1\" class=\"dataframe\">\n",
              "  <thead>\n",
              "    <tr style=\"text-align: right;\">\n",
              "      <th></th>\n",
              "      <th>batting_team_Australia</th>\n",
              "      <th>batting_team_Bangladesh</th>\n",
              "      <th>batting_team_England</th>\n",
              "      <th>batting_team_India</th>\n",
              "      <th>batting_team_New Zealand</th>\n",
              "      <th>batting_team_Pakistan</th>\n",
              "      <th>batting_team_South Africa</th>\n",
              "      <th>batting_team_Sri Lanka</th>\n",
              "      <th>batting_team_West Indies</th>\n",
              "      <th>bowling_team_Australia</th>\n",
              "      <th>bowling_team_Bangladesh</th>\n",
              "      <th>bowling_team_England</th>\n",
              "      <th>bowling_team_India</th>\n",
              "      <th>bowling_team_New Zealand</th>\n",
              "      <th>bowling_team_Pakistan</th>\n",
              "      <th>bowling_team_South Africa</th>\n",
              "      <th>bowling_team_Sri Lanka</th>\n",
              "      <th>bowling_team_West Indies</th>\n",
              "      <th>overs</th>\n",
              "      <th>current_score</th>\n",
              "      <th>current_wickets</th>\n",
              "      <th>runs_last30balls</th>\n",
              "      <th>wickets_last30balls</th>\n",
              "      <th>dots_last30balls</th>\n",
              "      <th>boundaries_last30balls</th>\n",
              "      <th>run_rate</th>\n",
              "      <th>runrate_last30balls</th>\n",
              "    </tr>\n",
              "  </thead>\n",
              "  <tbody>\n",
              "    <tr>\n",
              "      <th>0</th>\n",
              "      <td>0</td>\n",
              "      <td>0</td>\n",
              "      <td>1</td>\n",
              "      <td>0</td>\n",
              "      <td>0</td>\n",
              "      <td>0</td>\n",
              "      <td>0</td>\n",
              "      <td>0</td>\n",
              "      <td>0</td>\n",
              "      <td>1</td>\n",
              "      <td>0</td>\n",
              "      <td>0</td>\n",
              "      <td>0</td>\n",
              "      <td>0</td>\n",
              "      <td>0</td>\n",
              "      <td>0</td>\n",
              "      <td>0</td>\n",
              "      <td>0</td>\n",
              "      <td>0.1</td>\n",
              "      <td>0</td>\n",
              "      <td>0</td>\n",
              "      <td>0</td>\n",
              "      <td>0</td>\n",
              "      <td>1</td>\n",
              "      <td>0</td>\n",
              "      <td>0.000000</td>\n",
              "      <td>0.000000</td>\n",
              "    </tr>\n",
              "    <tr>\n",
              "      <th>1</th>\n",
              "      <td>0</td>\n",
              "      <td>0</td>\n",
              "      <td>1</td>\n",
              "      <td>0</td>\n",
              "      <td>0</td>\n",
              "      <td>0</td>\n",
              "      <td>0</td>\n",
              "      <td>0</td>\n",
              "      <td>0</td>\n",
              "      <td>1</td>\n",
              "      <td>0</td>\n",
              "      <td>0</td>\n",
              "      <td>0</td>\n",
              "      <td>0</td>\n",
              "      <td>0</td>\n",
              "      <td>0</td>\n",
              "      <td>0</td>\n",
              "      <td>0</td>\n",
              "      <td>0.2</td>\n",
              "      <td>1</td>\n",
              "      <td>0</td>\n",
              "      <td>1</td>\n",
              "      <td>0</td>\n",
              "      <td>1</td>\n",
              "      <td>0</td>\n",
              "      <td>5.000000</td>\n",
              "      <td>5.000000</td>\n",
              "    </tr>\n",
              "    <tr>\n",
              "      <th>2</th>\n",
              "      <td>0</td>\n",
              "      <td>0</td>\n",
              "      <td>1</td>\n",
              "      <td>0</td>\n",
              "      <td>0</td>\n",
              "      <td>0</td>\n",
              "      <td>0</td>\n",
              "      <td>0</td>\n",
              "      <td>0</td>\n",
              "      <td>1</td>\n",
              "      <td>0</td>\n",
              "      <td>0</td>\n",
              "      <td>0</td>\n",
              "      <td>0</td>\n",
              "      <td>0</td>\n",
              "      <td>0</td>\n",
              "      <td>0</td>\n",
              "      <td>0</td>\n",
              "      <td>0.3</td>\n",
              "      <td>1</td>\n",
              "      <td>0</td>\n",
              "      <td>1</td>\n",
              "      <td>0</td>\n",
              "      <td>2</td>\n",
              "      <td>0</td>\n",
              "      <td>3.333333</td>\n",
              "      <td>3.333333</td>\n",
              "    </tr>\n",
              "    <tr>\n",
              "      <th>3</th>\n",
              "      <td>0</td>\n",
              "      <td>0</td>\n",
              "      <td>1</td>\n",
              "      <td>0</td>\n",
              "      <td>0</td>\n",
              "      <td>0</td>\n",
              "      <td>0</td>\n",
              "      <td>0</td>\n",
              "      <td>0</td>\n",
              "      <td>1</td>\n",
              "      <td>0</td>\n",
              "      <td>0</td>\n",
              "      <td>0</td>\n",
              "      <td>0</td>\n",
              "      <td>0</td>\n",
              "      <td>0</td>\n",
              "      <td>0</td>\n",
              "      <td>0</td>\n",
              "      <td>0.4</td>\n",
              "      <td>1</td>\n",
              "      <td>0</td>\n",
              "      <td>1</td>\n",
              "      <td>0</td>\n",
              "      <td>3</td>\n",
              "      <td>0</td>\n",
              "      <td>2.500000</td>\n",
              "      <td>2.500000</td>\n",
              "    </tr>\n",
              "    <tr>\n",
              "      <th>4</th>\n",
              "      <td>0</td>\n",
              "      <td>0</td>\n",
              "      <td>1</td>\n",
              "      <td>0</td>\n",
              "      <td>0</td>\n",
              "      <td>0</td>\n",
              "      <td>0</td>\n",
              "      <td>0</td>\n",
              "      <td>0</td>\n",
              "      <td>1</td>\n",
              "      <td>0</td>\n",
              "      <td>0</td>\n",
              "      <td>0</td>\n",
              "      <td>0</td>\n",
              "      <td>0</td>\n",
              "      <td>0</td>\n",
              "      <td>0</td>\n",
              "      <td>0</td>\n",
              "      <td>0.5</td>\n",
              "      <td>1</td>\n",
              "      <td>0</td>\n",
              "      <td>1</td>\n",
              "      <td>0</td>\n",
              "      <td>4</td>\n",
              "      <td>0</td>\n",
              "      <td>2.000000</td>\n",
              "      <td>2.000000</td>\n",
              "    </tr>\n",
              "  </tbody>\n",
              "</table>\n",
              "</div>"
            ],
            "text/plain": [
              "   batting_team_Australia  batting_team_Bangladesh  batting_team_England  batting_team_India  batting_team_New Zealand  batting_team_Pakistan  batting_team_South Africa  batting_team_Sri Lanka  batting_team_West Indies  bowling_team_Australia  bowling_team_Bangladesh  bowling_team_England  bowling_team_India  bowling_team_New Zealand  bowling_team_Pakistan  bowling_team_South Africa  bowling_team_Sri Lanka  bowling_team_West Indies  overs  current_score  current_wickets  runs_last30balls  wickets_last30balls  dots_last30balls  boundaries_last30balls  run_rate  runrate_last30balls\n",
              "0  0                       0                        1                     0                   0                         0                      0                          0                       0                         1                       0                        0                     0                   0                         0                      0                          0                       0                         0.1    0              0                0                 0                    1                 0                       0.000000  0.000000           \n",
              "1  0                       0                        1                     0                   0                         0                      0                          0                       0                         1                       0                        0                     0                   0                         0                      0                          0                       0                         0.2    1              0                1                 0                    1                 0                       5.000000  5.000000           \n",
              "2  0                       0                        1                     0                   0                         0                      0                          0                       0                         1                       0                        0                     0                   0                         0                      0                          0                       0                         0.3    1              0                1                 0                    2                 0                       3.333333  3.333333           \n",
              "3  0                       0                        1                     0                   0                         0                      0                          0                       0                         1                       0                        0                     0                   0                         0                      0                          0                       0                         0.4    1              0                1                 0                    3                 0                       2.500000  2.500000           \n",
              "4  0                       0                        1                     0                   0                         0                      0                          0                       0                         1                       0                        0                     0                   0                         0                      0                          0                       0                         0.5    1              0                1                 0                    4                 0                       2.000000  2.000000           "
            ]
          },
          "execution_count": 10,
          "metadata": {},
          "output_type": "execute_result"
        }
      ],
      "source": [
        "X.head()"
      ]
    },
    {
      "cell_type": "code",
      "execution_count": null,
      "id": "6599c6ae",
      "metadata": {
        "id": "6599c6ae",
        "outputId": "64e77a09-10b0-4665-9f09-8b91f439ddf1"
      },
      "outputs": [
        {
          "data": {
            "text/plain": [
              "239117"
            ]
          },
          "execution_count": 11,
          "metadata": {},
          "output_type": "execute_result"
        }
      ],
      "source": [
        "len(X)"
      ]
    },
    {
      "cell_type": "code",
      "execution_count": null,
      "id": "d44df7fe",
      "metadata": {
        "id": "d44df7fe",
        "outputId": "63a35451-b9cc-4c7c-b400-0a8e40f65b31"
      },
      "outputs": [
        {
          "data": {
            "text/plain": [
              "239117"
            ]
          },
          "execution_count": 12,
          "metadata": {},
          "output_type": "execute_result"
        }
      ],
      "source": [
        "len(y)"
      ]
    },
    {
      "cell_type": "code",
      "execution_count": null,
      "id": "7b71b40b",
      "metadata": {
        "id": "7b71b40b"
      },
      "outputs": [],
      "source": [
        "# split into train test sets\n",
        "X_train, X_test, y_train, y_test = train_test_split(X, y, test_size=0.25, random_state=42, stratify=y)"
      ]
    },
    {
      "cell_type": "code",
      "execution_count": null,
      "id": "39e6c24a",
      "metadata": {
        "id": "39e6c24a"
      },
      "outputs": [],
      "source": [
        "X_train = X_train.values\n",
        "X_test = X_test.values\n",
        "X_train = np.asarray(X_train).astype(np.float32)\n",
        "X_test = np.asarray(X_test).astype(np.float32)"
      ]
    },
    {
      "cell_type": "code",
      "execution_count": null,
      "id": "ad5fb9d0",
      "metadata": {
        "id": "ad5fb9d0",
        "outputId": "53d1a4b7-2b4e-4422-f12f-7d74d8ede2b1"
      },
      "outputs": [
        {
          "name": "stdout",
          "output_type": "stream",
          "text": [
            "(179337, 27) (59780, 27) (179337,) (59780,)\n"
          ]
        }
      ],
      "source": [
        "print(X_train.shape, X_test.shape, y_train.shape, y_test.shape)"
      ]
    },
    {
      "cell_type": "code",
      "execution_count": null,
      "id": "1dddf764",
      "metadata": {
        "id": "1dddf764"
      },
      "outputs": [],
      "source": [
        "# Training LR Model"
      ]
    },
    {
      "cell_type": "code",
      "execution_count": null,
      "id": "11123ff0",
      "metadata": {
        "id": "11123ff0",
        "outputId": "c00a685f-d9e6-4dfb-b9b0-9f3ce2cca3ee"
      },
      "outputs": [
        {
          "data": {
            "text/html": [
              "<style>#sk-container-id-1 {color: black;background-color: white;}#sk-container-id-1 pre{padding: 0;}#sk-container-id-1 div.sk-toggleable {background-color: white;}#sk-container-id-1 label.sk-toggleable__label {cursor: pointer;display: block;width: 100%;margin-bottom: 0;padding: 0.3em;box-sizing: border-box;text-align: center;}#sk-container-id-1 label.sk-toggleable__label-arrow:before {content: \"▸\";float: left;margin-right: 0.25em;color: #696969;}#sk-container-id-1 label.sk-toggleable__label-arrow:hover:before {color: black;}#sk-container-id-1 div.sk-estimator:hover label.sk-toggleable__label-arrow:before {color: black;}#sk-container-id-1 div.sk-toggleable__content {max-height: 0;max-width: 0;overflow: hidden;text-align: left;background-color: #f0f8ff;}#sk-container-id-1 div.sk-toggleable__content pre {margin: 0.2em;color: black;border-radius: 0.25em;background-color: #f0f8ff;}#sk-container-id-1 input.sk-toggleable__control:checked~div.sk-toggleable__content {max-height: 200px;max-width: 100%;overflow: auto;}#sk-container-id-1 input.sk-toggleable__control:checked~label.sk-toggleable__label-arrow:before {content: \"▾\";}#sk-container-id-1 div.sk-estimator input.sk-toggleable__control:checked~label.sk-toggleable__label {background-color: #d4ebff;}#sk-container-id-1 div.sk-label input.sk-toggleable__control:checked~label.sk-toggleable__label {background-color: #d4ebff;}#sk-container-id-1 input.sk-hidden--visually {border: 0;clip: rect(1px 1px 1px 1px);clip: rect(1px, 1px, 1px, 1px);height: 1px;margin: -1px;overflow: hidden;padding: 0;position: absolute;width: 1px;}#sk-container-id-1 div.sk-estimator {font-family: monospace;background-color: #f0f8ff;border: 1px dotted black;border-radius: 0.25em;box-sizing: border-box;margin-bottom: 0.5em;}#sk-container-id-1 div.sk-estimator:hover {background-color: #d4ebff;}#sk-container-id-1 div.sk-parallel-item::after {content: \"\";width: 100%;border-bottom: 1px solid gray;flex-grow: 1;}#sk-container-id-1 div.sk-label:hover label.sk-toggleable__label {background-color: #d4ebff;}#sk-container-id-1 div.sk-serial::before {content: \"\";position: absolute;border-left: 1px solid gray;box-sizing: border-box;top: 0;bottom: 0;left: 50%;z-index: 0;}#sk-container-id-1 div.sk-serial {display: flex;flex-direction: column;align-items: center;background-color: white;padding-right: 0.2em;padding-left: 0.2em;position: relative;}#sk-container-id-1 div.sk-item {position: relative;z-index: 1;}#sk-container-id-1 div.sk-parallel {display: flex;align-items: stretch;justify-content: center;background-color: white;position: relative;}#sk-container-id-1 div.sk-item::before, #sk-container-id-1 div.sk-parallel-item::before {content: \"\";position: absolute;border-left: 1px solid gray;box-sizing: border-box;top: 0;bottom: 0;left: 50%;z-index: -1;}#sk-container-id-1 div.sk-parallel-item {display: flex;flex-direction: column;z-index: 1;position: relative;background-color: white;}#sk-container-id-1 div.sk-parallel-item:first-child::after {align-self: flex-end;width: 50%;}#sk-container-id-1 div.sk-parallel-item:last-child::after {align-self: flex-start;width: 50%;}#sk-container-id-1 div.sk-parallel-item:only-child::after {width: 0;}#sk-container-id-1 div.sk-dashed-wrapped {border: 1px dashed gray;margin: 0 0.4em 0.5em 0.4em;box-sizing: border-box;padding-bottom: 0.4em;background-color: white;}#sk-container-id-1 div.sk-label label {font-family: monospace;font-weight: bold;display: inline-block;line-height: 1.2em;}#sk-container-id-1 div.sk-label-container {text-align: center;}#sk-container-id-1 div.sk-container {/* jupyter's `normalize.less` sets `[hidden] { display: none; }` but bootstrap.min.css set `[hidden] { display: none !important; }` so we also need the `!important` here to be able to override the default hidden behavior on the sphinx rendered scikit-learn.org. See: https://github.com/scikit-learn/scikit-learn/issues/21755 */display: inline-block !important;position: relative;}#sk-container-id-1 div.sk-text-repr-fallback {display: none;}</style><div id=\"sk-container-id-1\" class=\"sk-top-container\"><div class=\"sk-text-repr-fallback\"><pre>LinearRegression()</pre><b>In a Jupyter environment, please rerun this cell to show the HTML representation or trust the notebook. <br />On GitHub, the HTML representation is unable to render, please try loading this page with nbviewer.org.</b></div><div class=\"sk-container\" hidden><div class=\"sk-item\"><div class=\"sk-estimator sk-toggleable\"><input class=\"sk-toggleable__control sk-hidden--visually\" id=\"sk-estimator-id-1\" type=\"checkbox\" checked><label for=\"sk-estimator-id-1\" class=\"sk-toggleable__label sk-toggleable__label-arrow\">LinearRegression</label><div class=\"sk-toggleable__content\"><pre>LinearRegression()</pre></div></div></div></div></div>"
            ],
            "text/plain": [
              "LinearRegression()"
            ]
          },
          "execution_count": 17,
          "metadata": {},
          "output_type": "execute_result"
        }
      ],
      "source": [
        "LR_model = LinearRegression()\n",
        "LR_model.fit(X_train, y_train)"
      ]
    },
    {
      "cell_type": "code",
      "execution_count": null,
      "id": "f24a77b8",
      "metadata": {
        "id": "f24a77b8"
      },
      "outputs": [],
      "source": [
        "# creating a pickle file for the classifier\n",
        "filename = 'lr-model.pkl'\n",
        "pickle.dump(LR_model, open(filename, 'wb'))"
      ]
    },
    {
      "cell_type": "code",
      "execution_count": null,
      "id": "00ad6f3b",
      "metadata": {
        "id": "00ad6f3b",
        "outputId": "8252dba6-8a38-4387-95d9-e41bbfb781cb"
      },
      "outputs": [
        {
          "data": {
            "text/plain": [
              "18.757883198120076"
            ]
          },
          "execution_count": 19,
          "metadata": {},
          "output_type": "execute_result"
        }
      ],
      "source": [
        "prediction = LR_model.predict(X_test)\n",
        "mean_absolute_error(y_test, prediction)"
      ]
    },
    {
      "cell_type": "code",
      "execution_count": null,
      "id": "c467bf1a",
      "metadata": {
        "id": "c467bf1a"
      },
      "outputs": [],
      "source": [
        "# Function to predict scores\n",
        "\n",
        "def score_prediction(Bat_Team, Bowl_Team, overs, total_score, total_wickets, prev_30_runs, prev_30_wickets, prev_30_dots, prev_30_boundaries, RR, P30RR):\n",
        "\n",
        "    temp_array = list()\n",
        "\n",
        "    if Bat_Team == 'AUS':\n",
        "        temp_array = temp_array + [1, 0, 0, 0, 0, 0, 0, 0, 0]\n",
        "    elif Bat_Team == 'BAN':\n",
        "        temp_array = temp_array + [0, 1, 0, 0, 0, 0, 0, 0, 0]\n",
        "    elif Bat_Team == 'ENG':\n",
        "        temp_array = temp_array + [0, 0, 1, 0, 0, 0, 0, 0, 0]\n",
        "    elif Bat_Team == 'IND':\n",
        "        temp_array = temp_array + [0, 0, 0, 1, 0, 0, 0, 0, 0]\n",
        "    elif Bat_Team == 'NZ':\n",
        "        temp_array = temp_array + [0, 0, 0, 0, 1, 0, 0, 0, 0]\n",
        "    elif Bat_Team == 'PAK':\n",
        "        temp_array = temp_array + [0, 0, 0, 0, 0, 1, 0, 0, 0]\n",
        "    elif Bat_Team == 'SA':\n",
        "        temp_array = temp_array + [0, 0, 0, 0, 0, 0, 1, 0, 0]\n",
        "    elif Bat_Team == 'SL':\n",
        "        temp_array = temp_array + [0, 0, 0, 0, 0, 0, 0, 1, 0]\n",
        "    elif Bat_Team == 'WI':\n",
        "        temp_array = temp_array + [0, 0, 0, 0, 0, 0, 0, 0, 1]\n",
        "\n",
        "    if Bowl_Team == 'AUS':\n",
        "        temp_array = temp_array + [1, 0, 0, 0, 0, 0, 0, 0, 0]\n",
        "    elif Bowl_Team == 'BAN':\n",
        "        temp_array = temp_array + [0, 1, 0, 0, 0, 0, 0, 0, 0]\n",
        "    elif Bowl_Team == 'ENG':\n",
        "        temp_array = temp_array + [0, 0, 1, 0, 0, 0, 0, 0, 0]\n",
        "    elif Bowl_Team == 'IND':\n",
        "        temp_array = temp_array + [0, 0, 0, 1, 0, 0, 0, 0, 0]\n",
        "    elif Bowl_Team == 'NZ':\n",
        "        temp_array = temp_array + [0, 0, 0, 0, 1, 0, 0, 0, 0]\n",
        "    elif Bowl_Team == 'PAK':\n",
        "        temp_array = temp_array + [0, 0, 0, 0, 0, 1, 0, 0, 0]\n",
        "    elif Bat_Team == 'SA':\n",
        "        temp_array = temp_array + [0, 0, 0, 0, 0, 0, 1, 0, 0]\n",
        "    elif Bowl_Team == 'SL':\n",
        "        temp_array = temp_array + [0, 0, 0, 0, 0, 0, 0, 1, 0]\n",
        "    elif Bowl_Team == 'WI':\n",
        "        temp_array = temp_array + [0, 0, 0, 0, 0, 0, 0, 0, 1]\n",
        "\n",
        "    temp_array = temp_array + [overs, current_score, current_wickets, runs_last30balls, wickets_last30balls, dots_last30balls,\n",
        "       boundaries_last30balls, run_rate, runrate_last30balls]\n",
        "    data = np.array([temp_array])\n",
        "    my_prediction = int(LR_model.predict(data))\n",
        "\n",
        "    print('Predicted score :', my_prediction)\n",
        "    print('Predicted score range :', my_prediction - 19, 'to ', my_prediction + 19)"
      ]
    },
    {
      "cell_type": "code",
      "execution_count": null,
      "id": "3d5c8a70",
      "metadata": {
        "id": "3d5c8a70",
        "outputId": "89c23977-69df-4ce9-c13e-24376bc5e4ac"
      },
      "outputs": [
        {
          "name": "stdout",
          "output_type": "stream",
          "text": [
            "Predicted score : 136\n",
            "Predicted score range : 117 to  155\n"
          ]
        }
      ],
      "source": [
        "Bat_team = 'AUS'\n",
        "Bowl_team = 'IND'\n",
        "overs = 10.3               # current overs\n",
        "current_score = 67         # current score\n",
        "current_wickets = 2        # current_wickets\n",
        "runs_last30balls = 37      # current_runs_in_last_30_balls\n",
        "wickets_last30balls = 1    # current_wickets_in_last_30_balls\n",
        "dots_last30balls = 8       # current_dots_in_last_30_balls\n",
        "boundaries_last30balls = 5 # current_boundaries_in_last_30_balls\n",
        "run_rate = 6.38            # current run rate\n",
        "runrate_last30balls = 7.4  # run_rate in last 30 balls\n",
        "\n",
        "score_prediction(Bat_team, Bowl_team, overs, current_score, current_wickets, runs_last30balls, wickets_last30balls, dots_last30balls,\n",
        "       boundaries_last30balls, run_rate, runrate_last30balls)\n",
        "\n"
      ]
    },
    {
      "cell_type": "code",
      "execution_count": null,
      "id": "d2fd2e04",
      "metadata": {
        "id": "d2fd2e04"
      },
      "outputs": [],
      "source": []
    }
  ],
  "metadata": {
    "kernelspec": {
      "display_name": "Python 3 (ipykernel)",
      "language": "python",
      "name": "python3"
    },
    "language_info": {
      "codemirror_mode": {
        "name": "ipython",
        "version": 3
      },
      "file_extension": ".py",
      "mimetype": "text/x-python",
      "name": "python",
      "nbconvert_exporter": "python",
      "pygments_lexer": "ipython3",
      "version": "3.11.3"
    },
    "colab": {
      "provenance": [],
      "include_colab_link": true
    }
  },
  "nbformat": 4,
  "nbformat_minor": 5
}